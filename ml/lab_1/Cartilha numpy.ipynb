{
 "cells": [
  {
   "cell_type": "markdown",
   "id": "8685ee86",
   "metadata": {},
   "source": [
    "# Importando biblioteca"
   ]
  },
  {
   "cell_type": "code",
   "execution_count": 2,
   "id": "fa4b3645",
   "metadata": {},
   "outputs": [],
   "source": [
    "import numpy as np"
   ]
  },
  {
   "cell_type": "code",
   "execution_count": 5,
   "id": "98f1f684",
   "metadata": {},
   "outputs": [
    {
     "name": "stdout",
     "output_type": "stream",
     "text": [
      "[[1 2 3 4 5 6]\n",
      " [3 4 5 6 7 8]]\n",
      "<class 'numpy.ndarray'>\n"
     ]
    }
   ],
   "source": [
    "a = np.array([[1,2,3,4,5,6],[3,4,5,6,7,8]])\n",
    "print(a)\n",
    "print(type(a))"
   ]
  },
  {
   "cell_type": "markdown",
   "id": "b994564c",
   "metadata": {},
   "source": [
    "### np.zeros"
   ]
  },
  {
   "cell_type": "markdown",
   "id": "996b9d6d",
   "metadata": {},
   "source": [
    "#### np.zeros(shape = (numero de array, numero de linhas, numero de colunas))"
   ]
  },
  {
   "cell_type": "code",
   "execution_count": 6,
   "id": "6884252f",
   "metadata": {},
   "outputs": [
    {
     "name": "stdout",
     "output_type": "stream",
     "text": [
      "[[[0. 0. 0. 0. 0.]\n",
      "  [0. 0. 0. 0. 0.]\n",
      "  [0. 0. 0. 0. 0.]]\n",
      "\n",
      " [[0. 0. 0. 0. 0.]\n",
      "  [0. 0. 0. 0. 0.]\n",
      "  [0. 0. 0. 0. 0.]]\n",
      "\n",
      " [[0. 0. 0. 0. 0.]\n",
      "  [0. 0. 0. 0. 0.]\n",
      "  [0. 0. 0. 0. 0.]]\n",
      "\n",
      " [[0. 0. 0. 0. 0.]\n",
      "  [0. 0. 0. 0. 0.]\n",
      "  [0. 0. 0. 0. 0.]]\n",
      "\n",
      " [[0. 0. 0. 0. 0.]\n",
      "  [0. 0. 0. 0. 0.]\n",
      "  [0. 0. 0. 0. 0.]]]\n"
     ]
    }
   ],
   "source": [
    "zero_array = np.zeros(shape = (5, 3, 5))\n",
    "print(zero_array)"
   ]
  },
  {
   "cell_type": "markdown",
   "id": "2f9e8951",
   "metadata": {},
   "source": [
    "### np.ones((numero de linhas, numero de colunas))"
   ]
  },
  {
   "cell_type": "code",
   "execution_count": 8,
   "id": "7af50a98",
   "metadata": {},
   "outputs": [
    {
     "name": "stdout",
     "output_type": "stream",
     "text": [
      "[[1. 1. 1.]\n",
      " [1. 1. 1.]]\n"
     ]
    }
   ],
   "source": [
    "um_array = np.ones((2, 3))\n",
    "print(um_array)"
   ]
  },
  {
   "cell_type": "markdown",
   "id": "fd6d2ed6",
   "metadata": {},
   "source": [
    "### np.empty((numero de linhas, numero de colunas))"
   ]
  },
  {
   "cell_type": "code",
   "execution_count": 12,
   "id": "ec8683e1",
   "metadata": {},
   "outputs": [
    {
     "name": "stdout",
     "output_type": "stream",
     "text": [
      "[[1.22173506e-311 3.16202013e-322 0.00000000e+000 0.00000000e+000]\n",
      " [1.29441743e-312 2.10775999e-052 5.99196711e-066 6.59758894e-042]\n",
      " [4.75375926e+174 3.92270269e+179 5.80154213e+170 1.74416871e-076]]\n"
     ]
    }
   ],
   "source": [
    "vazio_array = np.empty((3, 4))\n",
    "print(vazio_array)"
   ]
  },
  {
   "cell_type": "markdown",
   "id": "e6645e74",
   "metadata": {},
   "source": [
    "### np.arange(começo, fim, intervalo)"
   ]
  },
  {
   "cell_type": "code",
   "execution_count": 18,
   "id": "ab8012c6",
   "metadata": {},
   "outputs": [
    {
     "name": "stdout",
     "output_type": "stream",
     "text": [
      "[ 50  80 110 140 170]\n",
      "\n",
      "[ 50  80 110 140 170]\n"
     ]
    }
   ],
   "source": [
    "arr = np.arange(50, 200, 30)\n",
    "arr1 = np.arange(step = 30, start = 50, stop = 200)\n",
    "print(arr)\n",
    "print()\n",
    "print(arr1)"
   ]
  },
  {
   "cell_type": "markdown",
   "id": "ad9581dd",
   "metadata": {},
   "source": [
    "### np.linspace(inicio, fim, quantidade de numeros, numeros depois da virgula, intervalo )"
   ]
  },
  {
   "cell_type": "code",
   "execution_count": 22,
   "id": "e8d3eb2e",
   "metadata": {},
   "outputs": [
    {
     "name": "stdout",
     "output_type": "stream",
     "text": [
      "[ 0.  5. 10. 15. 20. 25. 30. 35. 40. 45. 50. 55. 60. 65. 70. 75. 80. 85.\n",
      " 90. 95.]\n",
      "\n",
      "(array([  0.        ,   5.26315789,  10.52631579,  15.78947368,\n",
      "        21.05263158,  26.31578947,  31.57894737,  36.84210526,\n",
      "        42.10526316,  47.36842105,  52.63157895,  57.89473684,\n",
      "        63.15789474,  68.42105263,  73.68421053,  78.94736842,\n",
      "        84.21052632,  89.47368421,  94.73684211, 100.        ]), 5.2631578947368425)\n"
     ]
    }
   ],
   "source": [
    "array_linear = np.linspace(0, 100, num = 20, endpoint = False)\n",
    "array_linear1 = np.linspace(0, 100, num = 20, endpoint = True, retstep = True)\n",
    "print(array_linear)\n",
    "print()\n",
    "print(array_linear1)"
   ]
  },
  {
   "cell_type": "markdown",
   "id": "d3080373",
   "metadata": {},
   "source": [
    "### Descobrindo o tamanho de um Array"
   ]
  },
  {
   "cell_type": "code",
   "execution_count": 23,
   "id": "e3c1ad29",
   "metadata": {},
   "outputs": [
    {
     "name": "stdout",
     "output_type": "stream",
     "text": [
      "[[[0. 0. 0. 0. 0.]\n",
      "  [0. 0. 0. 0. 0.]\n",
      "  [0. 0. 0. 0. 0.]]\n",
      "\n",
      " [[0. 0. 0. 0. 0.]\n",
      "  [0. 0. 0. 0. 0.]\n",
      "  [0. 0. 0. 0. 0.]]\n",
      "\n",
      " [[0. 0. 0. 0. 0.]\n",
      "  [0. 0. 0. 0. 0.]\n",
      "  [0. 0. 0. 0. 0.]]\n",
      "\n",
      " [[0. 0. 0. 0. 0.]\n",
      "  [0. 0. 0. 0. 0.]\n",
      "  [0. 0. 0. 0. 0.]]\n",
      "\n",
      " [[0. 0. 0. 0. 0.]\n",
      "  [0. 0. 0. 0. 0.]\n",
      "  [0. 0. 0. 0. 0.]]]\n"
     ]
    }
   ],
   "source": [
    "zero_array = np.zeros(shape = (5, 3, 5))\n",
    "print(zero_array)"
   ]
  },
  {
   "cell_type": "code",
   "execution_count": 25,
   "id": "9329dfa5",
   "metadata": {},
   "outputs": [
    {
     "name": "stdout",
     "output_type": "stream",
     "text": [
      "(5, 3, 5)\n",
      "75\n",
      "3\n"
     ]
    }
   ],
   "source": [
    "print(zero_array.shape)\n",
    "print(zero_array.size)\n",
    "print(zero_array.ndim)"
   ]
  },
  {
   "cell_type": "markdown",
   "id": "be1f491d",
   "metadata": {},
   "source": [
    "### Transformando um vetor(1-D) em uma matriz(2-D)"
   ]
  },
  {
   "cell_type": "code",
   "execution_count": 27,
   "id": "359959cd",
   "metadata": {},
   "outputs": [
    {
     "name": "stdout",
     "output_type": "stream",
     "text": [
      "1\n"
     ]
    }
   ],
   "source": [
    "a = np.array([1,2,3])\n",
    "print(a.ndim)"
   ]
  },
  {
   "cell_type": "markdown",
   "id": "33ba484b",
   "metadata": {},
   "source": [
    "#### Da vertical para horizontal"
   ]
  },
  {
   "cell_type": "code",
   "execution_count": 28,
   "id": "04dd617f",
   "metadata": {},
   "outputs": [
    {
     "name": "stdout",
     "output_type": "stream",
     "text": [
      "(1, 3)\n",
      "2\n",
      "[[1 2 3]]\n"
     ]
    }
   ],
   "source": [
    "a21 = a[np.newaxis,:]\n",
    "print(a21.shape)\n",
    "print(a21.ndim)\n",
    "print(a21)"
   ]
  },
  {
   "cell_type": "markdown",
   "id": "b46bab1f",
   "metadata": {},
   "source": [
    "#### Da horizontal para vertical"
   ]
  },
  {
   "cell_type": "code",
   "execution_count": 29,
   "id": "78d1531c",
   "metadata": {},
   "outputs": [
    {
     "name": "stdout",
     "output_type": "stream",
     "text": [
      "(3, 1)\n",
      "2\n",
      "[[1]\n",
      " [2]\n",
      " [3]]\n"
     ]
    }
   ],
   "source": [
    "a22 = a[:,np.newaxis]\n",
    "print(a22.shape)\n",
    "print(a22.ndim)\n",
    "print(a22)"
   ]
  },
  {
   "cell_type": "markdown",
   "id": "33c87d29",
   "metadata": {},
   "source": [
    "#### Acessando dados especifico da array"
   ]
  },
  {
   "cell_type": "code",
   "execution_count": 31,
   "id": "86a82278",
   "metadata": {},
   "outputs": [
    {
     "name": "stdout",
     "output_type": "stream",
     "text": [
      "1\n",
      "2\n"
     ]
    }
   ],
   "source": [
    "print(a22[0][0])\n",
    "print(a22[1][0])"
   ]
  },
  {
   "cell_type": "markdown",
   "id": "8cd74b16",
   "metadata": {},
   "source": [
    "#### Concatenando arrays"
   ]
  },
  {
   "cell_type": "code",
   "execution_count": 32,
   "id": "d38c261a",
   "metadata": {},
   "outputs": [
    {
     "name": "stdout",
     "output_type": "stream",
     "text": [
      "[1 2 3 4 5 6]\n",
      "[4 5 6 1 2 3]\n"
     ]
    }
   ],
   "source": [
    "a = np.array([1,2,3])\n",
    "b = np.array([4,5,6])\n",
    "c = np.concatenate((a,b))\n",
    "d = np.concatenate((b,a))\n",
    "\n",
    "print(c)\n",
    "print(d)"
   ]
  },
  {
   "cell_type": "markdown",
   "id": "9ab7b39f",
   "metadata": {},
   "source": [
    "#### Consultando itens de uma array (de uma forma especifica)"
   ]
  },
  {
   "cell_type": "code",
   "execution_count": 37,
   "id": "37ae87a4",
   "metadata": {},
   "outputs": [
    {
     "name": "stdout",
     "output_type": "stream",
     "text": [
      "[[ 1  2  3  4]\n",
      " [ 5  6  7  8]\n",
      " [ 9 10 11 12]]\n",
      "\n",
      "Maiores que 8: [ 9 10 11 12]\n",
      "Menores que 8: [1 2 3 4 5 6 7]\n",
      "Divisiveis por 2: [ 2  4  6  8 10 12]\n"
     ]
    }
   ],
   "source": [
    "a = np.array([[1,2,3,4], [5,6,7,8], [9,10,11,12]])\n",
    "print(a)\n",
    "print()\n",
    "maior_8 = a[a > 8]\n",
    "menor_8 = a[a < 8]\n",
    "div_2 = a[a % 2 == 0]\n",
    "\n",
    "print(f'Maiores que 8: {maior_8}')\n",
    "print(f'Menores que 8: {menor_8}')\n",
    "print(f'Divisiveis por 2: {div_2}')"
   ]
  },
  {
   "cell_type": "markdown",
   "id": "7e962a13",
   "metadata": {},
   "source": [
    "## Operações com arrays:\n",
    "####  Soma\n",
    "####  Minimo\n",
    "####  Maximo\n",
    "###  Media"
   ]
  },
  {
   "cell_type": "code",
   "execution_count": 38,
   "id": "6b90d1ed",
   "metadata": {},
   "outputs": [
    {
     "name": "stdout",
     "output_type": "stream",
     "text": [
      "6\n",
      "3\n",
      "1\n",
      "2.0\n"
     ]
    }
   ],
   "source": [
    "a = np.array([1,2,3])\n",
    "print(f'A soma: {a.sum()}')\n",
    "print(f'O maximo: {a.max()}')\n",
    "print(f'O minimo: {a.min()}')\n",
    "print('{a.mean()}')"
   ]
  },
  {
   "cell_type": "markdown",
   "id": "a20d03d1",
   "metadata": {},
   "source": [
    "### Gerando amostras aleatorias"
   ]
  },
  {
   "cell_type": "code",
   "execution_count": 1,
   "id": "fdfb2505",
   "metadata": {},
   "outputs": [],
   "source": [
    "from numpy.random import default_rng"
   ]
  },
  {
   "cell_type": "code",
   "execution_count": 5,
   "id": "559e453a",
   "metadata": {},
   "outputs": [
    {
     "name": "stdout",
     "output_type": "stream",
     "text": [
      "[[ 1  2 18 11]\n",
      " [ 5  3 10  6]]\n"
     ]
    }
   ],
   "source": [
    "rng = default_rng()\n",
    "aleatorio = rng.integers(20, size = (2, 4))\n",
    "print(aleatorio)"
   ]
  },
  {
   "cell_type": "markdown",
   "id": "3f070bc1",
   "metadata": {},
   "source": [
    "#### Diferenca entre Array e Listas\n",
    "##### Array - Permite apenas um tipo de dados\n",
    "##### List - Permite mais de um tipo de dados"
   ]
  },
  {
   "cell_type": "code",
   "execution_count": 14,
   "id": "748734d2",
   "metadata": {},
   "outputs": [
    {
     "name": "stdout",
     "output_type": "stream",
     "text": [
      "Transformou todos dados em strings \n",
      "['1' 'imr' '3' '4' '5' '7' '8']\n",
      "<class 'numpy.ndarray'>\n",
      "\n",
      "[1, 'imr', 3, 4, 5, 7, 8]\n",
      "<class 'list'>\n"
     ]
    }
   ],
   "source": [
    "import numpy as np\n",
    "a = np.array([1,'imr',3,4,5,7,8])\n",
    "print(f'Transformou todos dados em strings \\n{a}')\n",
    "print(type(a))\n",
    "print()\n",
    "list_a = [1,'imr',3,4,5,7,8]\n",
    "print(list_a)\n",
    "print(type(list_a))"
   ]
  },
  {
   "cell_type": "markdown",
   "id": "0f31efbd",
   "metadata": {},
   "source": [
    "## Comparando o processamento\n"
   ]
  },
  {
   "cell_type": "markdown",
   "id": "91089146",
   "metadata": {},
   "source": [
    "#### Usando lista"
   ]
  },
  {
   "cell_type": "markdown",
   "id": "bb465212",
   "metadata": {},
   "source": [
    "###### A lista não consegue multiplicar uma grande quantidade de numeros"
   ]
  },
  {
   "cell_type": "code",
   "execution_count": 17,
   "id": "93716e25",
   "metadata": {},
   "outputs": [
    {
     "ename": "TypeError",
     "evalue": "can't multiply sequence by non-int of type 'list'",
     "output_type": "error",
     "traceback": [
      "\u001b[1;31m---------------------------------------------------------------------------\u001b[0m",
      "\u001b[1;31mTypeError\u001b[0m                                 Traceback (most recent call last)",
      "\u001b[1;32mC:\\Users\\INACIO~1\\AppData\\Local\\Temp/ipykernel_17352/1217316580.py\u001b[0m in \u001b[0;36m<module>\u001b[1;34m\u001b[0m\n\u001b[0;32m      4\u001b[0m \u001b[1;31m#print(type(list_a))\u001b[0m\u001b[1;33m\u001b[0m\u001b[1;33m\u001b[0m\u001b[0m\n\u001b[0;32m      5\u001b[0m \u001b[0mc\u001b[0m \u001b[1;33m=\u001b[0m \u001b[1;33m[\u001b[0m\u001b[1;33m]\u001b[0m\u001b[1;33m\u001b[0m\u001b[1;33m\u001b[0m\u001b[0m\n\u001b[1;32m----> 6\u001b[1;33m \u001b[0mc\u001b[0m \u001b[1;33m=\u001b[0m \u001b[0mlist_a\u001b[0m \u001b[1;33m*\u001b[0m \u001b[0mlist_b\u001b[0m\u001b[1;33m\u001b[0m\u001b[1;33m\u001b[0m\u001b[0m\n\u001b[0m",
      "\u001b[1;31mTypeError\u001b[0m: can't multiply sequence by non-int of type 'list'"
     ]
    }
   ],
   "source": [
    "from time import process_time\n",
    "list_a = list(rng.integers(10, 100, 10000000))\n",
    "list_b = list(rng.integers(10, 100, 10000000))\n",
    "#print(type(list_a))\n",
    "c = []\n",
    "c = list_a * list_b"
   ]
  },
  {
   "cell_type": "markdown",
   "id": "9d5898e9",
   "metadata": {},
   "source": [
    "##### Com 'for', ela calcula, mas demora"
   ]
  },
  {
   "cell_type": "code",
   "execution_count": 22,
   "id": "ca14ca54",
   "metadata": {},
   "outputs": [
    {
     "name": "stdout",
     "output_type": "stream",
     "text": [
      "4.03125\n"
     ]
    }
   ],
   "source": [
    "c = []\n",
    "t1 = process_time()\n",
    "for i in range(len(list_a)):\n",
    "    c.append(list_a[i] * list_b[i])\n",
    "t2 = process_time()\n",
    "print(t2 - t1)"
   ]
  },
  {
   "cell_type": "markdown",
   "id": "8226e43c",
   "metadata": {},
   "source": [
    "#### Usando Array"
   ]
  },
  {
   "cell_type": "code",
   "execution_count": 29,
   "id": "bdb55272",
   "metadata": {},
   "outputs": [
    {
     "name": "stdout",
     "output_type": "stream",
     "text": [
      "0.046875\n"
     ]
    }
   ],
   "source": [
    "a = rng.integers(10, 100, 10000000)\n",
    "b = rng.integers(10, 100, 10000000)\n",
    "\n",
    "t1a = process_time()\n",
    "c = a * b\n",
    "t2a = process_time()\n",
    "print(t2a - t1a)"
   ]
  },
  {
   "cell_type": "code",
   "execution_count": null,
   "id": "bbece61c",
   "metadata": {},
   "outputs": [],
   "source": [
    "import matplotlib as plt\n",
    "\n",
    "dados_x = rng.integers(20, size = 30)\n",
    "dados_y = rng.integers(12, size = 30)\n",
    "\n",
    "#plt.scatter(x = dados_x, y = dados_y)\n",
    "#plt.show()"
   ]
  },
  {
   "cell_type": "code",
   "execution_count": null,
   "id": "a26a1bd2",
   "metadata": {},
   "outputs": [],
   "source": []
  }
 ],
 "metadata": {
  "kernelspec": {
   "display_name": "Python 3 (ipykernel)",
   "language": "python",
   "name": "python3"
  },
  "language_info": {
   "codemirror_mode": {
    "name": "ipython",
    "version": 3
   },
   "file_extension": ".py",
   "mimetype": "text/x-python",
   "name": "python",
   "nbconvert_exporter": "python",
   "pygments_lexer": "ipython3",
   "version": "3.9.7"
  }
 },
 "nbformat": 4,
 "nbformat_minor": 5
}
