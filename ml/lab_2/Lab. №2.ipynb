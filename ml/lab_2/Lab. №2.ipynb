{
 "cells": [
  {
   "cell_type": "markdown",
   "id": "0e2e2860",
   "metadata": {},
   "source": [
    "# Лабораторная работа №2\n",
    "## Раймунду Инасиу\n",
    "## 20-ИВТ-3\n",
    "## Вариант №1"
   ]
  },
  {
   "cell_type": "code",
   "execution_count": 7,
   "id": "671c33b0",
   "metadata": {},
   "outputs": [],
   "source": [
    "import pandas as pd"
   ]
  },
  {
   "cell_type": "code",
   "execution_count": 8,
   "id": "8343e00b",
   "metadata": {},
   "outputs": [
    {
     "data": {
      "text/html": [
       "<div>\n",
       "<style scoped>\n",
       "    .dataframe tbody tr th:only-of-type {\n",
       "        vertical-align: middle;\n",
       "    }\n",
       "\n",
       "    .dataframe tbody tr th {\n",
       "        vertical-align: top;\n",
       "    }\n",
       "\n",
       "    .dataframe thead th {\n",
       "        text-align: right;\n",
       "    }\n",
       "</style>\n",
       "<table border=\"1\" class=\"dataframe\">\n",
       "  <thead>\n",
       "    <tr style=\"text-align: right;\">\n",
       "      <th></th>\n",
       "      <th>PassengerId</th>\n",
       "      <th>Survived</th>\n",
       "      <th>Pclass</th>\n",
       "      <th>Name</th>\n",
       "      <th>Sex</th>\n",
       "      <th>Age</th>\n",
       "      <th>SibSp</th>\n",
       "      <th>Parch</th>\n",
       "      <th>Ticket</th>\n",
       "      <th>Fare</th>\n",
       "      <th>Cabin</th>\n",
       "      <th>Embarked</th>\n",
       "    </tr>\n",
       "  </thead>\n",
       "  <tbody>\n",
       "    <tr>\n",
       "      <th>0</th>\n",
       "      <td>1</td>\n",
       "      <td>0</td>\n",
       "      <td>3</td>\n",
       "      <td>Braund, Mr. Owen Harris</td>\n",
       "      <td>male</td>\n",
       "      <td>22.0</td>\n",
       "      <td>1</td>\n",
       "      <td>0</td>\n",
       "      <td>A/5 21171</td>\n",
       "      <td>7.2500</td>\n",
       "      <td>NaN</td>\n",
       "      <td>S</td>\n",
       "    </tr>\n",
       "    <tr>\n",
       "      <th>1</th>\n",
       "      <td>2</td>\n",
       "      <td>1</td>\n",
       "      <td>1</td>\n",
       "      <td>Cumings, Mrs. John Bradley (Florence Briggs Th...</td>\n",
       "      <td>female</td>\n",
       "      <td>38.0</td>\n",
       "      <td>1</td>\n",
       "      <td>0</td>\n",
       "      <td>PC 17599</td>\n",
       "      <td>71.2833</td>\n",
       "      <td>C85</td>\n",
       "      <td>C</td>\n",
       "    </tr>\n",
       "    <tr>\n",
       "      <th>2</th>\n",
       "      <td>3</td>\n",
       "      <td>1</td>\n",
       "      <td>3</td>\n",
       "      <td>Heikkinen, Miss. Laina</td>\n",
       "      <td>female</td>\n",
       "      <td>26.0</td>\n",
       "      <td>0</td>\n",
       "      <td>0</td>\n",
       "      <td>STON/O2. 3101282</td>\n",
       "      <td>7.9250</td>\n",
       "      <td>NaN</td>\n",
       "      <td>S</td>\n",
       "    </tr>\n",
       "    <tr>\n",
       "      <th>3</th>\n",
       "      <td>4</td>\n",
       "      <td>1</td>\n",
       "      <td>1</td>\n",
       "      <td>Futrelle, Mrs. Jacques Heath (Lily May Peel)</td>\n",
       "      <td>female</td>\n",
       "      <td>35.0</td>\n",
       "      <td>1</td>\n",
       "      <td>0</td>\n",
       "      <td>113803</td>\n",
       "      <td>53.1000</td>\n",
       "      <td>C123</td>\n",
       "      <td>S</td>\n",
       "    </tr>\n",
       "    <tr>\n",
       "      <th>4</th>\n",
       "      <td>5</td>\n",
       "      <td>0</td>\n",
       "      <td>3</td>\n",
       "      <td>Allen, Mr. William Henry</td>\n",
       "      <td>male</td>\n",
       "      <td>35.0</td>\n",
       "      <td>0</td>\n",
       "      <td>0</td>\n",
       "      <td>373450</td>\n",
       "      <td>8.0500</td>\n",
       "      <td>NaN</td>\n",
       "      <td>S</td>\n",
       "    </tr>\n",
       "    <tr>\n",
       "      <th>...</th>\n",
       "      <td>...</td>\n",
       "      <td>...</td>\n",
       "      <td>...</td>\n",
       "      <td>...</td>\n",
       "      <td>...</td>\n",
       "      <td>...</td>\n",
       "      <td>...</td>\n",
       "      <td>...</td>\n",
       "      <td>...</td>\n",
       "      <td>...</td>\n",
       "      <td>...</td>\n",
       "      <td>...</td>\n",
       "    </tr>\n",
       "    <tr>\n",
       "      <th>886</th>\n",
       "      <td>887</td>\n",
       "      <td>0</td>\n",
       "      <td>2</td>\n",
       "      <td>Montvila, Rev. Juozas</td>\n",
       "      <td>male</td>\n",
       "      <td>27.0</td>\n",
       "      <td>0</td>\n",
       "      <td>0</td>\n",
       "      <td>211536</td>\n",
       "      <td>13.0000</td>\n",
       "      <td>NaN</td>\n",
       "      <td>S</td>\n",
       "    </tr>\n",
       "    <tr>\n",
       "      <th>887</th>\n",
       "      <td>888</td>\n",
       "      <td>1</td>\n",
       "      <td>1</td>\n",
       "      <td>Graham, Miss. Margaret Edith</td>\n",
       "      <td>female</td>\n",
       "      <td>19.0</td>\n",
       "      <td>0</td>\n",
       "      <td>0</td>\n",
       "      <td>112053</td>\n",
       "      <td>30.0000</td>\n",
       "      <td>B42</td>\n",
       "      <td>S</td>\n",
       "    </tr>\n",
       "    <tr>\n",
       "      <th>888</th>\n",
       "      <td>889</td>\n",
       "      <td>0</td>\n",
       "      <td>3</td>\n",
       "      <td>Johnston, Miss. Catherine Helen \"Carrie\"</td>\n",
       "      <td>female</td>\n",
       "      <td>NaN</td>\n",
       "      <td>1</td>\n",
       "      <td>2</td>\n",
       "      <td>W./C. 6607</td>\n",
       "      <td>23.4500</td>\n",
       "      <td>NaN</td>\n",
       "      <td>S</td>\n",
       "    </tr>\n",
       "    <tr>\n",
       "      <th>889</th>\n",
       "      <td>890</td>\n",
       "      <td>1</td>\n",
       "      <td>1</td>\n",
       "      <td>Behr, Mr. Karl Howell</td>\n",
       "      <td>male</td>\n",
       "      <td>26.0</td>\n",
       "      <td>0</td>\n",
       "      <td>0</td>\n",
       "      <td>111369</td>\n",
       "      <td>30.0000</td>\n",
       "      <td>C148</td>\n",
       "      <td>C</td>\n",
       "    </tr>\n",
       "    <tr>\n",
       "      <th>890</th>\n",
       "      <td>891</td>\n",
       "      <td>0</td>\n",
       "      <td>3</td>\n",
       "      <td>Dooley, Mr. Patrick</td>\n",
       "      <td>male</td>\n",
       "      <td>32.0</td>\n",
       "      <td>0</td>\n",
       "      <td>0</td>\n",
       "      <td>370376</td>\n",
       "      <td>7.7500</td>\n",
       "      <td>NaN</td>\n",
       "      <td>Q</td>\n",
       "    </tr>\n",
       "  </tbody>\n",
       "</table>\n",
       "<p>891 rows × 12 columns</p>\n",
       "</div>"
      ],
      "text/plain": [
       "     PassengerId  Survived  Pclass  \\\n",
       "0              1         0       3   \n",
       "1              2         1       1   \n",
       "2              3         1       3   \n",
       "3              4         1       1   \n",
       "4              5         0       3   \n",
       "..           ...       ...     ...   \n",
       "886          887         0       2   \n",
       "887          888         1       1   \n",
       "888          889         0       3   \n",
       "889          890         1       1   \n",
       "890          891         0       3   \n",
       "\n",
       "                                                  Name     Sex   Age  SibSp  \\\n",
       "0                              Braund, Mr. Owen Harris    male  22.0      1   \n",
       "1    Cumings, Mrs. John Bradley (Florence Briggs Th...  female  38.0      1   \n",
       "2                               Heikkinen, Miss. Laina  female  26.0      0   \n",
       "3         Futrelle, Mrs. Jacques Heath (Lily May Peel)  female  35.0      1   \n",
       "4                             Allen, Mr. William Henry    male  35.0      0   \n",
       "..                                                 ...     ...   ...    ...   \n",
       "886                              Montvila, Rev. Juozas    male  27.0      0   \n",
       "887                       Graham, Miss. Margaret Edith  female  19.0      0   \n",
       "888           Johnston, Miss. Catherine Helen \"Carrie\"  female   NaN      1   \n",
       "889                              Behr, Mr. Karl Howell    male  26.0      0   \n",
       "890                                Dooley, Mr. Patrick    male  32.0      0   \n",
       "\n",
       "     Parch            Ticket     Fare Cabin Embarked  \n",
       "0        0         A/5 21171   7.2500   NaN        S  \n",
       "1        0          PC 17599  71.2833   C85        C  \n",
       "2        0  STON/O2. 3101282   7.9250   NaN        S  \n",
       "3        0            113803  53.1000  C123        S  \n",
       "4        0            373450   8.0500   NaN        S  \n",
       "..     ...               ...      ...   ...      ...  \n",
       "886      0            211536  13.0000   NaN        S  \n",
       "887      0            112053  30.0000   B42        S  \n",
       "888      2        W./C. 6607  23.4500   NaN        S  \n",
       "889      0            111369  30.0000  C148        C  \n",
       "890      0            370376   7.7500   NaN        Q  \n",
       "\n",
       "[891 rows x 12 columns]"
      ]
     },
     "execution_count": 8,
     "metadata": {},
     "output_type": "execute_result"
    }
   ],
   "source": [
    "df = pd.read_csv(\"train.csv\")\n",
    "df"
   ]
  },
  {
   "cell_type": "markdown",
   "id": "5e2552b2",
   "metadata": {},
   "source": [
    "### 1. Определите количество мужчин и женщин, которые ехали на корабле."
   ]
  },
  {
   "cell_type": "code",
   "execution_count": 9,
   "id": "81f7dd3d",
   "metadata": {},
   "outputs": [
    {
     "name": "stdout",
     "output_type": "stream",
     "text": [
      "Total = 891 , male = 577 , female = 314\n"
     ]
    }
   ],
   "source": [
    "total = df.shape[0]\n",
    "male = df[df.Sex == \"male\"].shape[0]\n",
    "female = df[df.Sex == \"female\"].shape[0]\n",
    "print(\"Total =\", total, \", male =\", male, \", female =\", female)"
   ]
  },
  {
   "cell_type": "markdown",
   "id": "7bb670db",
   "metadata": {},
   "source": [
    "### 2. Определите какой части пассажиров удалось выжить. Посчитайте долю выживших пассажиров.\n"
   ]
  },
  {
   "cell_type": "code",
   "execution_count": 10,
   "id": "08ecfc44",
   "metadata": {},
   "outputs": [
    {
     "name": "stdout",
     "output_type": "stream",
     "text": [
      "Survived ratio = 0.38\n"
     ]
    }
   ],
   "source": [
    "survived = df[df.Survived == 1].shape[0]\n",
    "ratio = survived / total\n",
    "print(\"Survived ratio = %.2f\" % ratio)"
   ]
  },
  {
   "cell_type": "markdown",
   "id": "40c47863",
   "metadata": {},
   "source": [
    "### 3. Какую долю пассажиры первого класса составляли среди всех пассажиров?"
   ]
  },
  {
   "cell_type": "code",
   "execution_count": 11,
   "id": "dd2f1821",
   "metadata": {},
   "outputs": [
    {
     "name": "stdout",
     "output_type": "stream",
     "text": [
      "First class ratio = 0.24\n"
     ]
    }
   ],
   "source": [
    "first_class = df[df.Pclass == 1].shape[0]\n",
    "first_class_ratio = first_class / total\n",
    "print(\"First class ratio = %.2f\" % first_class_ratio)"
   ]
  },
  {
   "cell_type": "markdown",
   "id": "7f51e094",
   "metadata": {},
   "source": [
    "### 4. Какого возраста были пассажиры? Посчитайте среднее и медиану возраста пассажиров. "
   ]
  },
  {
   "cell_type": "code",
   "execution_count": 12,
   "id": "621bc0ac",
   "metadata": {},
   "outputs": [
    {
     "data": {
      "text/html": [
       "<div>\n",
       "<style scoped>\n",
       "    .dataframe tbody tr th:only-of-type {\n",
       "        vertical-align: middle;\n",
       "    }\n",
       "\n",
       "    .dataframe tbody tr th {\n",
       "        vertical-align: top;\n",
       "    }\n",
       "\n",
       "    .dataframe thead th {\n",
       "        text-align: right;\n",
       "    }\n",
       "</style>\n",
       "<table border=\"1\" class=\"dataframe\">\n",
       "  <thead>\n",
       "    <tr style=\"text-align: right;\">\n",
       "      <th></th>\n",
       "      <th>Age</th>\n",
       "    </tr>\n",
       "  </thead>\n",
       "  <tbody>\n",
       "    <tr>\n",
       "      <th>0</th>\n",
       "      <td>22.0</td>\n",
       "    </tr>\n",
       "    <tr>\n",
       "      <th>1</th>\n",
       "      <td>38.0</td>\n",
       "    </tr>\n",
       "    <tr>\n",
       "      <th>2</th>\n",
       "      <td>26.0</td>\n",
       "    </tr>\n",
       "    <tr>\n",
       "      <th>3</th>\n",
       "      <td>35.0</td>\n",
       "    </tr>\n",
       "    <tr>\n",
       "      <th>4</th>\n",
       "      <td>35.0</td>\n",
       "    </tr>\n",
       "  </tbody>\n",
       "</table>\n",
       "</div>"
      ],
      "text/plain": [
       "    Age\n",
       "0  22.0\n",
       "1  38.0\n",
       "2  26.0\n",
       "3  35.0\n",
       "4  35.0"
      ]
     },
     "execution_count": 12,
     "metadata": {},
     "output_type": "execute_result"
    }
   ],
   "source": [
    "df [['Age']].head()"
   ]
  },
  {
   "cell_type": "code",
   "execution_count": 13,
   "id": "c614a796",
   "metadata": {},
   "outputs": [
    {
     "name": "stdout",
     "output_type": "stream",
     "text": [
      "Age mean = 29.7 , age median = 28.0\n"
     ]
    }
   ],
   "source": [
    "mean = df.Age.mean()\n",
    "median = df.Age.median()\n",
    "print(\"Age mean = %.1f\" % mean, \", age median = %.1f\" % median)"
   ]
  },
  {
   "cell_type": "markdown",
   "id": "772a5d3d",
   "metadata": {},
   "source": [
    "### 5. Коррелируют ли число братьев/сестер с числом родителей/детей? Посчитайте корреляцию Пирсона между признаками SibSp и Parch. Постройте плотность распределения признаков SibSp и Parch."
   ]
  },
  {
   "cell_type": "code",
   "execution_count": 14,
   "id": "82823b2e",
   "metadata": {
    "scrolled": true
   },
   "outputs": [
    {
     "name": "stdout",
     "output_type": "stream",
     "text": [
      "Correlation = 0.41\n"
     ]
    }
   ],
   "source": [
    "sibSp = df.SibSp\n",
    "parch = df.Parch\n",
    "corr = sibSp.corr(parch, method=\"pearson\")\n",
    "print(\"Correlation = %.2f\" % corr)"
   ]
  },
  {
   "cell_type": "code",
   "execution_count": 15,
   "id": "c7850171",
   "metadata": {},
   "outputs": [
    {
     "data": {
      "text/plain": [
       "<AxesSubplot:ylabel='Density'>"
      ]
     },
     "execution_count": 15,
     "metadata": {},
     "output_type": "execute_result"
    },
    {
     "data": {
      "image/png": "[encoded data removed]",
      "text/plain": [
       "<Figure size 432x288 with 1 Axes>"
      ]
     },
     "metadata": {
      "needs_background": "light"
     },
     "output_type": "display_data"
    }
   ],
   "source": [
    "sibSp.plot.kde(legend=True)\n",
    "parch.plot.kde(legend=True)"
   ]
  },
  {
   "cell_type": "markdown",
   "id": "2a33f47e",
   "metadata": {
    "scrolled": true
   },
   "source": [
    "### 6.Какое самое популярное женское имя на корабле? \n"
   ]
  },
  {
   "cell_type": "code",
   "execution_count": 16,
   "id": "229b8eb7",
   "metadata": {},
   "outputs": [
    {
     "data": {
      "text/plain": [
       "William      13\n",
       "Mary         11\n",
       "Anna          9\n",
       "Elizabeth     8\n",
       "Margaret      6\n",
       "Name: Name, dtype: int64"
      ]
     },
     "execution_count": 16,
     "metadata": {},
     "output_type": "execute_result"
    }
   ],
   "source": [
    "def getFirstFemaleName(fullName):\n",
    "    splitted = fullName.split('.')\n",
    "    abbr = splitted[0].split(' ')[-1]\n",
    "    if abbr in [\"Mrs\", \"Miss\", \"Lady\", \"Mme\", \"Ms\", \"Mlle\"]:\n",
    "        firstName = splitted[1].split()[0]\n",
    "        firstName = firstName.replace(\"(\", \"\")\n",
    "        firstName = firstName.replace(\")\", \"\")\n",
    "        return firstName\n",
    "    if abbr == \"Countess\":\n",
    "        return \"Lucy\"\n",
    "    else:\n",
    "        return None\n",
    "\n",
    "names = df.Name\n",
    "femaleNames = names.apply(getFirstFemaleName)\n",
    "noNoneFemaleNames = femaleNames.dropna()\n",
    "noNoneFemaleNames.value_counts().head()"
   ]
  },
  {
   "cell_type": "markdown",
   "id": "768fc5ac",
   "metadata": {},
   "source": [
    "### 7. Коррелирует ли класс, которым ехал пассажир, с выживаемостью?"
   ]
  },
  {
   "cell_type": "code",
   "execution_count": 17,
   "id": "433f82b6",
   "metadata": {},
   "outputs": [
    {
     "name": "stdout",
     "output_type": "stream",
     "text": [
      "Correlation = -0.34\n"
     ]
    }
   ],
   "source": [
    "pClass = df.Pclass\n",
    "survived = df.Survived\n",
    "\n",
    "corr = survived.corr(pClass, method=\"pearson\")\n",
    "print(\"Correlation = %.2f\" % corr)"
   ]
  },
  {
   "cell_type": "markdown",
   "id": "bb3db376",
   "metadata": {},
   "source": [
    "### 8. Визуализируйте гистограммы возраста для выживших и не выживших пассажиров. Сделайте выводы. Отобразите данные на одном и нескольких графиках"
   ]
  },
  {
   "cell_type": "code",
   "execution_count": 20,
   "id": "847e7db4",
   "metadata": {},
   "outputs": [
    {
     "data": {
      "image/png": "[encoded data removed]",
      "text/plain": [
       "<Figure size 432x288 with 1 Axes>"
      ]
     },
     "metadata": {
      "needs_background": "light"
     },
     "output_type": "display_data"
    },
    {
     "data": {
      "image/png": "[encoded data removed]",
      "text/plain": [
       "<Figure size 432x288 with 1 Axes>"
      ]
     },
     "metadata": {
      "needs_background": "light"
     },
     "output_type": "display_data"
    },
    {
     "data": {
      "image/png": "[encoded data removed]",
      "text/plain": [
       "<Figure size 432x288 with 1 Axes>"
      ]
     },
     "metadata": {
      "needs_background": "light"
     },
     "output_type": "display_data"
    }
   ],
   "source": [
    "import matplotlib.pyplot as plt\n",
    "import pylab as pl\n",
    "survivedPeople = df[df.Survived == 1][\"Age\"]\n",
    "notSurvivedPeople = df[df.Survived == 0][\"Age\"]\n",
    "\n",
    "binsNumber = 10\n",
    "plt.figure();\n",
    "pl.suptitle(\"Survived age\")\n",
    "survivedPeople.hist(bins=binsNumber, alpha=0.5, color=\"g\")\n",
    "plt.figure();\n",
    "pl.suptitle(\"Not survived age\")\n",
    "notSurvivedPeople.hist(bins=binsNumber, alpha=0.5, color=\"r\")\n",
    "\n",
    "plt.figure();\n",
    "pl.suptitle(\"Age on one histogram\")\n",
    "survivedPeople.hist(bins=binsNumber, alpha=0.5, color=\"g\")\n",
    "notSurvivedPeople.hist(bins=binsNumber, alpha=0.5, color=\"r\")\n",
    "plt.show()"
   ]
  },
  {
   "cell_type": "markdown",
   "id": "5841e309",
   "metadata": {},
   "source": [
    "#### По графикам можно сделать следующие выводы:\n",
    "- Наибольшее колличество выживших пассажиров в возрасте от 20 до 30 лет;\n",
    "- Наибольшее колличество не выживших пассажиров в возрасте от 25 до 30 лет"
   ]
  },
  {
   "cell_type": "markdown",
   "id": "6866039e",
   "metadata": {},
   "source": [
    "### 9. Визуализируйте гистограммы возраста для выживших и не выживших пассажиров по классам. Сделайте выводы. "
   ]
  },
  {
   "cell_type": "code",
   "execution_count": 18,
   "id": "cbc12e8a",
   "metadata": {},
   "outputs": [
    {
     "data": {
      "image/png": "[encoded data removed]",
      "text/plain": [
       "<Figure size 432x288 with 1 Axes>"
      ]
     },
     "metadata": {
      "needs_background": "light"
     },
     "output_type": "display_data"
    },
    {
     "data": {
      "image/png": "[encoded data removed]",
      "text/plain": [
       "<Figure size 432x288 with 1 Axes>"
      ]
     },
     "metadata": {
      "needs_background": "light"
     },
     "output_type": "display_data"
    },
    {
     "data": {
      "image/png": "[encoded data removed]",
      "text/plain": [
       "<Figure size 432x288 with 1 Axes>"
      ]
     },
     "metadata": {
      "needs_background": "light"
     },
     "output_type": "display_data"
    }
   ],
   "source": [
    "survivedPeople1class = df[(df.Survived == 1) & (df.Pclass == 1)][\"Age\"]\n",
    "survivedPeople2class = df[(df.Survived == 1) & (df.Pclass == 2)][\"Age\"]\n",
    "survivedPeople3class = df[(df.Survived == 1) & (df.Pclass == 3)][\"Age\"]\n",
    "notSurvivedPeople1class = df[(df.Survived == 0) & (df.Pclass == 1)][\"Age\"]\n",
    "notSurvivedPeople2class = df[(df.Survived == 0) & (df.Pclass == 2)][\"Age\"]\n",
    "notSurvivedPeople3class = df[(df.Survived == 0) & (df.Pclass == 3)][\"Age\"]\n",
    "\n",
    "binsNumber = 20\n",
    "\n",
    "plt.figure();\n",
    "pl.suptitle(\"1 class\")\n",
    "survivedPeople1class.hist(bins=binsNumber, alpha=0.5, color=\"g\")\n",
    "notSurvivedPeople1class.hist(bins=binsNumber, alpha=0.5, color=\"r\")\n",
    "\n",
    "plt.figure();\n",
    "pl.suptitle(\"2 class\")\n",
    "survivedPeople2class.hist(bins=binsNumber, alpha=0.5, color=\"g\")\n",
    "notSurvivedPeople2class.hist(bins=binsNumber, alpha=0.5, color=\"r\")\n",
    "\n",
    "plt.figure();\n",
    "pl.suptitle(\"3 class\")\n",
    "survivedPeople3class.hist(bins=binsNumber, alpha=0.5, color=\"g\")\n",
    "notSurvivedPeople3class.hist(bins=binsNumber, alpha=0.5, color=\"r\")\n",
    "plt.show()"
   ]
  },
  {
   "cell_type": "markdown",
   "id": "a8fea7bb",
   "metadata": {},
   "source": [
    "#### По графикам можно сделать следующие выводы:\n",
    "- Наибольшее количество людей выжило в первом классе;\n",
    "- Число выживших пассажиров второго класса составляет около 50%.Все пассажиры второго класса в возрасте до 15 лет выжили.;\n",
    "- Наибольшее количество людей погибло в третьем классе"
   ]
  },
  {
   "cell_type": "markdown",
   "id": "bc0718dc",
   "metadata": {},
   "source": [
    "### 10. Постройте столбчатую диаграмму количества людей: мужчины, женщины, дети.\n",
    "### Пусть ребенок - это человек, возраст которого меньше 18 лет"
   ]
  },
  {
   "cell_type": "code",
   "execution_count": 19,
   "id": "a020908d",
   "metadata": {},
   "outputs": [
    {
     "data": {
      "text/plain": [
       "<BarContainer object of 3 artists>"
      ]
     },
     "execution_count": 19,
     "metadata": {},
     "output_type": "execute_result"
    },
    {
     "data": {
      "image/png": "[encoded data removed]",
      "text/plain": [
       "<Figure size 432x288 with 1 Axes>"
      ]
     },
     "metadata": {
      "needs_background": "light"
     },
     "output_type": "display_data"
    }
   ],
   "source": [
    "men = df[(df.Sex == \"male\") & (df.Age >= 18)]\n",
    "women = df[(df.Sex == \"female\") & (df.Age >= 18)]\n",
    "children = df[df.Age <= 18]\n",
    "\n",
    "menNumber = men.shape[0]\n",
    "womenNumber = women.shape[0]\n",
    "childrenNumber = children.shape[0]\n",
    "\n",
    "plt.bar([\"Men\", \"Women\", \"Children\"], [menNumber, womenNumber, childrenNumber], color=\"y\")"
   ]
  }
 ],
 "metadata": {
  "kernelspec": {
   "display_name": "Python 3 (ipykernel)",
   "language": "python",
   "name": "python3"
  },
  "language_info": {
   "codemirror_mode": {
    "name": "ipython",
    "version": 3
   },
   "file_extension": ".py",
   "mimetype": "text/x-python",
   "name": "python",
   "nbconvert_exporter": "python",
   "pygments_lexer": "ipython3",
   "version": "3.9.7"
  }
 },
 "nbformat": 4,
 "nbformat_minor": 5
}
