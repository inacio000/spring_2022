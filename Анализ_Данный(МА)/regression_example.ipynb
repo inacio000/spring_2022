{
 "cells": [
  {
   "cell_type": "code",
   "execution_count": 1,
   "metadata": {
    "id": "hIAmuMKwZwvO"
   },
   "outputs": [
    {
     "ename": "ModuleNotFoundError",
     "evalue": "No module named 'tensorflow'",
     "output_type": "error",
     "traceback": [
      "\u001b[1;31m---------------------------------------------------------------------------\u001b[0m",
      "\u001b[1;31mModuleNotFoundError\u001b[0m                       Traceback (most recent call last)",
      "\u001b[1;32m~\\AppData\\Local\\Temp\\ipykernel_8168\\1847549238.py\u001b[0m in \u001b[0;36m<module>\u001b[1;34m\u001b[0m\n\u001b[0;32m      3\u001b[0m \u001b[1;32mimport\u001b[0m \u001b[0mcsv\u001b[0m\u001b[1;31m#read csv filse\u001b[0m\u001b[1;33m\u001b[0m\u001b[1;33m\u001b[0m\u001b[0m\n\u001b[0;32m      4\u001b[0m \u001b[1;32mimport\u001b[0m \u001b[0mnumpy\u001b[0m \u001b[1;32mas\u001b[0m \u001b[0mnp\u001b[0m\u001b[1;31m#arrays operations\u001b[0m\u001b[1;33m\u001b[0m\u001b[1;33m\u001b[0m\u001b[0m\n\u001b[1;32m----> 5\u001b[1;33m \u001b[1;32mfrom\u001b[0m \u001b[0mtensorflow\u001b[0m\u001b[1;33m.\u001b[0m\u001b[0mkeras\u001b[0m \u001b[1;32mimport\u001b[0m \u001b[0mInput\u001b[0m\u001b[1;33m,\u001b[0m \u001b[0mModel\u001b[0m\u001b[1;33m,\u001b[0m \u001b[0mSequential\u001b[0m\u001b[1;33m,\u001b[0m \u001b[0mregularizers\u001b[0m\u001b[1;33m,\u001b[0m \u001b[0moptimizers\u001b[0m\u001b[1;33m,\u001b[0m \u001b[0mmodels\u001b[0m\u001b[1;33m\u001b[0m\u001b[1;33m\u001b[0m\u001b[0m\n\u001b[0m\u001b[0;32m      6\u001b[0m \u001b[1;32mfrom\u001b[0m \u001b[0mtensorflow\u001b[0m\u001b[1;33m.\u001b[0m\u001b[0mkeras\u001b[0m\u001b[1;33m.\u001b[0m\u001b[0mlayers\u001b[0m \u001b[1;32mimport\u001b[0m \u001b[0mconcatenate\u001b[0m\u001b[1;33m,\u001b[0m\u001b[0mTimeDistributed\u001b[0m\u001b[1;33m,\u001b[0m \u001b[0mConcatenate\u001b[0m\u001b[1;33m,\u001b[0m \u001b[0mGRU\u001b[0m\u001b[1;33m,\u001b[0m \u001b[0mActivation\u001b[0m\u001b[1;33m,\u001b[0m \u001b[0mDropout\u001b[0m\u001b[1;33m,\u001b[0m \u001b[0mFlatten\u001b[0m\u001b[1;33m,\u001b[0m\u001b[0mSeparableConv1D\u001b[0m\u001b[1;33m,\u001b[0m \u001b[0mDense\u001b[0m\u001b[1;33m,\u001b[0m \u001b[0mSimpleRNN\u001b[0m\u001b[1;33m,\u001b[0m \u001b[0mLSTM\u001b[0m\u001b[1;33m,\u001b[0m \u001b[0mConv1D\u001b[0m\u001b[1;33m,\u001b[0m \u001b[0mReshape\u001b[0m\u001b[1;33m,\u001b[0m\u001b[0mMaxPooling1D\u001b[0m\u001b[1;33m,\u001b[0m \u001b[0mConv2D\u001b[0m\u001b[1;33m,\u001b[0m \u001b[0mReshape\u001b[0m\u001b[1;33m,\u001b[0m\u001b[0mMaxPooling2D\u001b[0m\u001b[1;33m,\u001b[0m \u001b[0mPermute\u001b[0m\u001b[1;33m,\u001b[0m\u001b[0mBidirectional\u001b[0m\u001b[1;33m,\u001b[0m \u001b[0mBatchNormalization\u001b[0m\u001b[1;33m,\u001b[0m \u001b[0mDepthwiseConv2D\u001b[0m\u001b[1;33m,\u001b[0m \u001b[0mGlobalMaxPooling2D\u001b[0m\u001b[1;33m\u001b[0m\u001b[1;33m\u001b[0m\u001b[0m\n\u001b[0;32m      7\u001b[0m \u001b[1;32mfrom\u001b[0m \u001b[0mtensorflow\u001b[0m\u001b[1;33m.\u001b[0m\u001b[0mkeras\u001b[0m\u001b[1;33m.\u001b[0m\u001b[0mutils\u001b[0m \u001b[1;32mimport\u001b[0m \u001b[0mplot_model\u001b[0m\u001b[1;31m#draw model structure\u001b[0m\u001b[1;33m\u001b[0m\u001b[1;33m\u001b[0m\u001b[0m\n",
      "\u001b[1;31mModuleNotFoundError\u001b[0m: No module named 'tensorflow'"
     ]
    }
   ],
   "source": [
    "#init librarys\n",
    "import math#math functions \n",
    "import csv#read csv filse\n",
    "import numpy as np#arrays operations\n",
    "from tensorflow.keras import Input, Model, Sequential, regularizers, optimizers, models\n",
    "from tensorflow.keras.layers import concatenate,TimeDistributed, Concatenate, GRU, Activation, Dropout, Flatten,SeparableConv1D, Dense, SimpleRNN, LSTM, Conv1D, Reshape,MaxPooling1D, Conv2D, Reshape,MaxPooling2D, Permute,Bidirectional, BatchNormalization, DepthwiseConv2D, GlobalMaxPooling2D\n",
    "from tensorflow.keras.utils import plot_model#draw model structure\n",
    "from tensorflow.keras.callbacks import ModelCheckpoint, EarlyStopping,Callback#training callbacks\n",
    "from tensorflow.keras.models import model_from_json#load model from json and h5 files\n",
    "import matplotlib.pyplot as plt#display training chart\n",
    "import tensorflow.keras.backend as K#for custom loss functions\n",
    "import random#use it for shuffle data"
   ]
  },
  {
   "cell_type": "code",
   "execution_count": 30,
   "metadata": {
    "id": "h_IOO4p0xYDG"
   },
   "outputs": [
    {
     "data": {
      "text/plain": [
       "'2.9.1'"
      ]
     },
     "execution_count": 30,
     "metadata": {},
     "output_type": "execute_result"
    }
   ],
   "source": [
    "#check version of library\n",
    "import tensorflow as tf\n",
    "tf.__version__"
   ]
  },
  {
   "cell_type": "code",
   "execution_count": 31,
   "metadata": {
    "id": "Ud-x1HPhYFu0"
   },
   "outputs": [],
   "source": [
    "#create variable with path to dataset\n",
    "data_path='dataset_boston.txt'\n",
    "folder=''"
   ]
  },
  {
   "cell_type": "code",
   "execution_count": 32,
   "metadata": {
    "id": "03uX7J6vvkOu"
   },
   "outputs": [],
   "source": [
    "\n",
    "#case 1\n",
    "#load data by numpy\n",
    "from numpy import loadtxt\n",
    "all_data = loadtxt(data_path, delimiter=' ',skiprows=1)\n"
   ]
  },
  {
   "cell_type": "code",
   "execution_count": 33,
   "metadata": {
    "id": "smbQUIFXxHVh"
   },
   "outputs": [
    {
     "name": "stdout",
     "output_type": "stream",
     "text": [
      "['crim', 'zn', 'indus', 'chas', 'nox', 'rm', 'age', 'dis', 'rad', 'tax', 'ptratio', 'black', 'lstat', 'medv']\n"
     ]
    }
   ],
   "source": [
    "#case 2\n",
    "#use of csv reader\n",
    "csv_data=open(data_path, newline='')\n",
    "data_reader = csv.reader(csv_data, delimiter=' ', quotechar='|')\n",
    "all_data=[]\n",
    "counter=0\n",
    "read_it=True\n",
    "read_row = next(data_reader)#scip headers\n",
    "print(read_row)\n",
    "while(read_it==True):\n",
    "    try:\n",
    "        read_row = next(data_reader)#read row as string\n",
    "        buf=[]\n",
    "\n",
    "        for i in range(len(read_row)):#transform row values to float\n",
    "          value=float(read_row[i])\n",
    "          buf.append(value)\n",
    "        buf=np.asarray(buf)\n",
    "        all_data.append(buf)\n",
    "        counter=counter+1  \n",
    "    except StopIteration:\n",
    "        read_it=False\n",
    "csv_data.close() \n",
    "all_data=np.asarray(all_data)"
   ]
  },
  {
   "cell_type": "code",
   "execution_count": 34,
   "metadata": {
    "id": "hzZpmX-txvN0"
   },
   "outputs": [
    {
     "name": "stdout",
     "output_type": "stream",
     "text": [
      "[6.320e-03 1.800e+01 2.310e+00 0.000e+00 5.380e-01 6.575e+00 6.520e+01\n",
      " 4.090e+00 1.000e+00 2.960e+02 1.530e+01 3.969e+02 4.980e+00 2.400e+01]\n",
      "<class 'numpy.ndarray'>\n",
      "<class 'numpy.ndarray'>\n",
      "<class 'numpy.float64'>\n",
      "506\n",
      "14\n"
     ]
    }
   ],
   "source": [
    "#check data\n",
    "print(all_data[0])\n",
    "print(type(all_data))\n",
    "print(type(all_data[0]))\n",
    "print(type(all_data[0][0]))\n",
    "print(len(all_data))\n",
    "print(len(all_data[0]))"
   ]
  },
  {
   "cell_type": "code",
   "execution_count": 35,
   "metadata": {
    "id": "h7f2uyxwxKj2"
   },
   "outputs": [],
   "source": [
    "#calculate length of dataset and number of columns\n",
    "all_data_len=row_len=len(all_data)\n",
    "row_len=len(all_data[0])\n",
    "#select number of columns with input data\n",
    "x_row_len=row_len-1\n",
    "#select position of column with output data\n",
    "y_out_val=row_len-1\n",
    "\n",
    "#split dataset into train, test and validation datasets \n",
    "index_test=int(all_data_len*0.8)\n",
    "index_val=int(all_data_len*0.9)\n",
    "\n",
    "#shuffle data rows\n",
    "random.shuffle(all_data)\n",
    "\n",
    "#-----------------------------------------------------\n",
    "X_train = all_data[0:index_test,0:x_row_len]\n",
    "Y_train = all_data[0:index_test,y_out_val]\n",
    "\n",
    "#------------------------------------------\n",
    "X_test = all_data[index_test:index_val,0:x_row_len]\n",
    "Y_test = all_data[index_test:index_val,y_out_val]\n",
    "#-------------------------------------------------\n",
    "X_val = all_data[index_val:all_data_len,0:x_row_len]\n",
    "Y_val = all_data[index_val:all_data_len,y_out_val]"
   ]
  },
  {
   "cell_type": "code",
   "execution_count": 36,
   "metadata": {
    "id": "6OpCAIfYvFfC"
   },
   "outputs": [
    {
     "name": "stdout",
     "output_type": "stream",
     "text": [
      "[6.320e-03 1.800e+01 2.310e+00 0.000e+00 5.380e-01 6.575e+00 6.520e+01\n",
      " 4.090e+00 1.000e+00 2.960e+02 1.530e+01 3.969e+02 4.980e+00 2.400e+01]\n",
      "[6.320e-03 1.800e+01 2.310e+00 0.000e+00 5.380e-01 6.575e+00 6.520e+01\n",
      " 4.090e+00 1.000e+00 2.960e+02 1.530e+01 3.969e+02 4.980e+00]\n",
      "24.0\n"
     ]
    }
   ],
   "source": [
    "print(all_data[0])\n",
    "print(X_train[0])\n",
    "print(Y_train[0])"
   ]
  },
  {
   "cell_type": "code",
   "execution_count": 37,
   "metadata": {
    "id": "fOMypN2QzUcw"
   },
   "outputs": [
    {
     "name": "stdout",
     "output_type": "stream",
     "text": [
      "404\n",
      "51\n",
      "51\n",
      "-------------\n",
      "404\n",
      "51\n",
      "51\n",
      "-------------\n",
      "13\n",
      "13\n",
      "13\n"
     ]
    }
   ],
   "source": [
    "#check size of train, test and validation dataset\n",
    "print(len(X_train))\n",
    "print(len(X_test))\n",
    "print(len(X_val))\n",
    "print(\"-------------\")\n",
    "print(len(Y_train))\n",
    "print(len(Y_test))\n",
    "print(len(Y_val))\n",
    "print(\"-------------\")\n",
    "print(len(X_train[0]))\n",
    "print(len(X_test[0]))\n",
    "print(len(X_val[0]))\n"
   ]
  },
  {
   "cell_type": "code",
   "execution_count": 38,
   "metadata": {
    "id": "gwjVYEViyZdl"
   },
   "outputs": [],
   "source": [
    "#data Standardization\n",
    "mean = X_train.mean(axis=0)\n",
    "std = X_train.std(axis=0)\n",
    "X_train_std = X_train - mean\n",
    "X_train_std = X_train_std / std\n",
    "\n",
    "X_test_std = X_test - mean\n",
    "X_test_std = X_test_std / std\n",
    "\n",
    "X_val_std = X_val - mean\n",
    "X_val_std = X_val_std / std"
   ]
  },
  {
   "cell_type": "code",
   "execution_count": 39,
   "metadata": {
    "id": "pi6AGPkk2vVi"
   },
   "outputs": [
    {
     "name": "stdout",
     "output_type": "stream",
     "text": [
      "[  8.98296 100.       25.65      1.        0.871     8.78    100.\n",
      "  10.5857   24.      666.       22.      396.9      34.41   ]\n",
      "[6.3200e-03 0.0000e+00 4.6000e-01 0.0000e+00 3.8500e-01 5.0190e+00\n",
      " 2.9000e+00 1.4118e+00 1.0000e+00 1.8800e+02 1.3000e+01 8.8010e+01\n",
      " 1.7300e+00]\n",
      "[  8.97664 100.       25.19      1.        0.486     3.761    97.1\n",
      "   9.1739   23.      478.        9.      308.89     32.68   ]\n"
     ]
    }
   ],
   "source": [
    "#data Normalization\n",
    "from sklearn.preprocessing import MinMaxScaler\n",
    "# create scaler\n",
    "scaler = MinMaxScaler()\n",
    "# fit scaler on data\n",
    "scaler.fit(X_train)\n",
    "# apply transform\n",
    "X_train_norm = scaler.transform(X_train)\n",
    "X_test_norm = scaler.transform(X_test)\n",
    "X_val_norm = scaler.transform(X_val)\n",
    "\n",
    "#get paramenrs of scaler\n",
    "print(scaler.data_max_)\n",
    "print(scaler.data_min_)\n",
    "print(scaler.data_range_)"
   ]
  },
  {
   "cell_type": "code",
   "execution_count": 40,
   "metadata": {
    "id": "hTaelk-y0p1V"
   },
   "outputs": [
    {
     "name": "stdout",
     "output_type": "stream",
     "text": [
      "[6.320e-03 1.800e+01 2.310e+00 0.000e+00 5.380e-01 6.575e+00 6.520e+01\n",
      " 4.090e+00 1.000e+00 2.960e+02 1.530e+01 3.969e+02 4.980e+00]\n",
      "[-0.55312914  0.25683157 -1.09345129 -0.24569789  0.30965838  0.49690127\n",
      "  0.0648084  -0.18238378 -1.48328974 -0.2249549  -1.3359727   0.47538438\n",
      " -1.01020647]\n",
      "[0.         0.18       0.07344184 0.         0.31481481 0.41371976\n",
      " 0.64160659 0.29193691 0.         0.22594142 0.25555556 1.\n",
      " 0.0994492 ]\n",
      "-----------\n",
      "[  5.29305   0.       18.1       0.        0.7       6.051    82.5\n",
      "   2.1678   24.      666.       20.2     378.38     18.76   ]\n",
      "[ 6.25028089 -0.50751431  1.71313807 -0.24569789  2.16556698 -0.40054194\n",
      "  0.66642734 -1.27409052  8.55511395  5.04314146  0.91272346 -0.11478723\n",
      "  1.22169314]\n",
      "[0.58894308 0.         0.70027789 0.         0.64814815 0.27439511\n",
      " 0.81977343 0.0824077  1.         1.         0.8        0.94004338\n",
      " 0.52111383]\n",
      "-----------\n",
      "[  0.95577   0.        8.14      0.        0.538     6.047    88.8\n",
      "   4.4534    4.      307.       21.      306.38     17.28   ]\n",
      "[ 0.6687032  -0.50751431 -0.05719949 -0.24569789  0.30965838 -0.40739265\n",
      "  0.885514    0.02400797 -0.17393274 -0.06833582  1.27985753 -2.40919089\n",
      "  0.98198259]\n",
      "[0.10576897 0.         0.30488289 0.         0.31481481 0.27333156\n",
      " 0.88465499 0.33154929 0.13043478 0.24895397 0.88888889 0.70695069\n",
      " 0.47582619]\n"
     ]
    }
   ],
   "source": [
    "print(X_train[0])\n",
    "print(X_train_std[0])\n",
    "print(X_train_norm[0])\n",
    "print(\"-----------\")\n",
    "print(X_test[0])\n",
    "print(X_test_std[0])\n",
    "print(X_test_norm[0])\n",
    "print(\"-----------\")\n",
    "print(X_val[0])\n",
    "print(X_val_std[0])\n",
    "print(X_val_norm[0])"
   ]
  },
  {
   "cell_type": "code",
   "execution_count": 41,
   "metadata": {
    "id": "JOXb2lYuceF1"
   },
   "outputs": [
    {
     "name": "stdout",
     "output_type": "stream",
     "text": [
      "12.7\n",
      "50.0\n"
     ]
    },
    {
     "data": {
      "image/png": "[encoded data removed]",
      "text/plain": [
       "<Figure size 432x288 with 1 Axes>"
      ]
     },
     "metadata": {
      "needs_background": "light"
     },
     "output_type": "display_data"
    },
    {
     "data": {
      "image/png": "[encoded data removed]",
      "text/plain": [
       "<Figure size 432x288 with 1 Axes>"
      ]
     },
     "metadata": {
      "needs_background": "light"
     },
     "output_type": "display_data"
    },
    {
     "data": {
      "image/png": "[encoded data removed]",
      "text/plain": [
       "<Figure size 432x288 with 1 Axes>"
      ]
     },
     "metadata": {
      "needs_background": "light"
     },
     "output_type": "display_data"
    }
   ],
   "source": [
    "#show Y values\n",
    "\n",
    "#calculate range of Y values\n",
    "y_max=-999999999\n",
    "y_min=999999999\n",
    "count=0\n",
    "count1=0\n",
    "for i in range(Y_train.shape[0]):\n",
    "    if Y_train[i]>y_max:\n",
    "       y_max=Y_train[i]\n",
    "    if Y_train[i]<y_min:\n",
    "       y_min=Y_train[i]\n",
    "       \n",
    "print(y_min)\n",
    "print(y_max)\n",
    "plt.hist([Y_train], \n",
    "         color=\"red\",\n",
    "         label='y data',\n",
    "         range=(y_min,y_max), \n",
    "         bins=50) \n",
    "plt.xlabel(\"x\") \n",
    "plt.ylabel(\"y\") \n",
    "plt.title(\"train_chart\" )\n",
    "plt.show()\n",
    "\n",
    "plt.hist([Y_test],# [Y_train,Y_test]\n",
    "         range=(y_min,y_max), \n",
    "         label='y data',\n",
    "         bins=50) \n",
    "# set title and labels\n",
    "plt.xlabel(\"x\") \n",
    "plt.ylabel(\"y\") \n",
    "plt.title(\"test_chart\" )\n",
    "plt.legend()\n",
    "plt.show()\n",
    "\n",
    "plt.hist([Y_val],# [Y_train,Y_test]\n",
    "         range=(y_min,y_max), \n",
    "         label='y data',\n",
    "         bins=50) \n",
    "# set title and labels\n",
    "plt.xlabel(\"x\") \n",
    "plt.ylabel(\"y\") \n",
    "plt.title(\"val_chart\" )\n",
    "plt.legend()\n",
    "plt.show()\n",
    "\n",
    "\n"
   ]
  },
  {
   "cell_type": "code",
   "execution_count": 43,
   "metadata": {
    "id": "m98kHXyJxf0G"
   },
   "outputs": [],
   "source": [
    "#api 1\n",
    "input_shape = x_row_len\n",
    "\n",
    "model = Sequential()\n",
    "model.add(Dense(64, activation=\"relu\",  input_shape=(input_shape,)))\n",
    "model.add(Dense(64))\n",
    "model.add(Dropout(0.3))\n",
    "model.add(Dense(1))\n"
   ]
  },
  {
   "cell_type": "code",
   "execution_count": 44,
   "metadata": {
    "id": "dJpqLVy2ZwwI"
   },
   "outputs": [],
   "source": [
    "#api 2\n",
    "#init models structure\n",
    "input_shape = (x_row_len)\n",
    "#input_shape = (x_row_len,)\n",
    "\n",
    "model_in = Input(shape=input_shape)\n",
    "dense0=Dense(64, activation=\"relu\")(model_in)#activations: relu, sigmoid, tanh\n",
    "dense1=Dense(64)(dense0)\n",
    "dropout0=Dropout(0.3)(dense1)\n",
    "out=Dense(1)(dropout0)\n",
    "\n",
    "#model=Model(model_in,out)# single input, single output\n",
    "model=Model([model_in],[out])#multi input, multi output\n"
   ]
  },
  {
   "cell_type": "code",
   "execution_count": 45,
   "metadata": {
    "id": "HjVuiiV9bPKX"
   },
   "outputs": [
    {
     "name": "stdout",
     "output_type": "stream",
     "text": [
      "Model: \"model_1\"\n",
      "_________________________________________________________________\n",
      " Layer (type)                Output Shape              Param #   \n",
      "=================================================================\n",
      " input_2 (InputLayer)        [(None, 13)]              0         \n",
      "                                                                 \n",
      " dense_12 (Dense)            (None, 64)                896       \n",
      "                                                                 \n",
      " dense_13 (Dense)            (None, 64)                4160      \n",
      "                                                                 \n",
      " dropout_4 (Dropout)         (None, 64)                0         \n",
      "                                                                 \n",
      " dense_14 (Dense)            (None, 1)                 65        \n",
      "                                                                 \n",
      "=================================================================\n",
      "Total params: 5,121\n",
      "Trainable params: 5,121\n",
      "Non-trainable params: 0\n",
      "_________________________________________________________________\n",
      "You must install pydot (`pip install pydot`) and install graphviz (see instructions at https://graphviz.gitlab.io/download/) for plot_model/model_to_dot to work.\n"
     ]
    },
    {
     "name": "stderr",
     "output_type": "stream",
     "text": [
      "C:\\Users\\timka\\anaconda3\\lib\\site-packages\\keras\\optimizers\\optimizer_v2\\adam.py:110: UserWarning: The `lr` argument is deprecated, use `learning_rate` instead.\n",
      "  super(Adam, self).__init__(name, **kwargs)\n"
     ]
    }
   ],
   "source": [
    "#selection of training parametrs. compilation.\n",
    "loss='mae'#loss function for regression:    mae mse \n",
    "#optimiser=optimizers.SGD(lr=0.01)\n",
    "#optimiser=optimizers.RMSprop(lr=0.001)\n",
    "optimiser=optimizers.Adam(lr=0.001)\n",
    "\n",
    "metrics1='mae'# output metrics. dont use in training process, just show results for programmer\n",
    "metrics2=\"mse\"\n",
    "model.compile(optimizer=optimiser, \n",
    "              loss=loss, \n",
    "              metrics=[metrics1, metrics2])\n",
    "model.summary()\n",
    "plot_model(model, to_file=folder+\"/model_struct.png\", expand_nested=True, show_shapes=True, show_layer_names=False)"
   ]
  },
  {
   "cell_type": "code",
   "execution_count": 46,
   "metadata": {
    "id": "W_ceDuUbGIr1"
   },
   "outputs": [
    {
     "name": "stdout",
     "output_type": "stream",
     "text": [
      "Epoch 1/300\n",
      "45/81 [===============>..............] - ETA: 0s - loss: 21.4095 - mae: 21.4095 - mse: 524.7164 INFO:tensorflow:Assets written to: best_result_checkpoint\\assets\n",
      "81/81 [==============================] - 2s 19ms/step - loss: 16.1428 - mae: 16.1428 - mse: 353.7413 - val_loss: 8.2742 - val_mae: 8.2742 - val_mse: 121.9457\n",
      "Epoch 2/300\n",
      "41/81 [==============>...............] - ETA: 0s - loss: 6.4298 - mae: 6.4298 - mse: 68.4546INFO:tensorflow:Assets written to: best_result_checkpoint\\assets\n",
      "81/81 [==============================] - 1s 16ms/step - loss: 5.9457 - mae: 5.9457 - mse: 62.2205 - val_loss: 5.7099 - val_mae: 5.7099 - val_mse: 69.0869\n",
      "Epoch 3/300\n",
      "79/81 [============================>.] - ETA: 0s - loss: 4.9248 - mae: 4.9248 - mse: 46.8689INFO:tensorflow:Assets written to: best_result_checkpoint\\assets\n",
      "81/81 [==============================] - 1s 14ms/step - loss: 4.8737 - mae: 4.8737 - mse: 46.1268 - val_loss: 4.7514 - val_mae: 4.7514 - val_mse: 52.7970\n",
      "Epoch 4/300\n",
      "47/81 [================>.............] - ETA: 0s - loss: 3.8750 - mae: 3.8750 - mse: 31.1956INFO:tensorflow:Assets written to: best_result_checkpoint\\assets\n",
      "81/81 [==============================] - 1s 15ms/step - loss: 4.0655 - mae: 4.0655 - mse: 34.4833 - val_loss: 4.3527 - val_mae: 4.3527 - val_mse: 40.3377\n",
      "Epoch 5/300\n",
      "42/81 [==============>...............] - ETA: 0s - loss: 3.9997 - mae: 3.9997 - mse: 29.6888INFO:tensorflow:Assets written to: best_result_checkpoint\\assets\n",
      "81/81 [==============================] - 1s 16ms/step - loss: 3.8711 - mae: 3.8711 - mse: 28.6449 - val_loss: 3.8135 - val_mae: 3.8135 - val_mse: 30.8727\n",
      "Epoch 6/300\n",
      "42/81 [==============>...............] - ETA: 0s - loss: 3.3265 - mae: 3.3265 - mse: 21.2889INFO:tensorflow:Assets written to: best_result_checkpoint\\assets\n",
      "81/81 [==============================] - 1s 14ms/step - loss: 3.3624 - mae: 3.3624 - mse: 23.1825 - val_loss: 3.5546 - val_mae: 3.5546 - val_mse: 24.5161\n",
      "Epoch 7/300\n",
      "44/81 [===============>..............] - ETA: 0s - loss: 3.2132 - mae: 3.2132 - mse: 19.9127INFO:tensorflow:Assets written to: best_result_checkpoint\\assets\n",
      "81/81 [==============================] - 1s 15ms/step - loss: 3.1850 - mae: 3.1850 - mse: 19.0099 - val_loss: 3.2163 - val_mae: 3.2163 - val_mse: 21.7897\n",
      "Epoch 8/300\n",
      "43/81 [==============>...............] - ETA: 0s - loss: 3.0373 - mae: 3.0373 - mse: 20.0189INFO:tensorflow:Assets written to: best_result_checkpoint\\assets\n",
      "81/81 [==============================] - 1s 15ms/step - loss: 3.0007 - mae: 3.0007 - mse: 18.1065 - val_loss: 3.2032 - val_mae: 3.2032 - val_mse: 21.1099\n",
      "Epoch 9/300\n",
      "58/81 [====================>.........] - ETA: 0s - loss: 2.9231 - mae: 2.9231 - mse: 15.7727INFO:tensorflow:Assets written to: best_result_checkpoint\\assets\n",
      "81/81 [==============================] - 1s 16ms/step - loss: 2.9402 - mae: 2.9402 - mse: 16.2773 - val_loss: 3.0052 - val_mae: 3.0052 - val_mse: 17.4225\n",
      "Epoch 10/300\n",
      "81/81 [==============================] - 0s 2ms/step - loss: 3.0362 - mae: 3.0362 - mse: 17.0677 - val_loss: 3.2867 - val_mae: 3.2867 - val_mse: 19.0762\n",
      "Epoch 11/300\n",
      "46/81 [================>.............] - ETA: 0s - loss: 3.0046 - mae: 3.0046 - mse: 17.3254INFO:tensorflow:Assets written to: best_result_checkpoint\\assets\n",
      "81/81 [==============================] - 1s 14ms/step - loss: 3.0223 - mae: 3.0223 - mse: 16.7747 - val_loss: 2.8598 - val_mae: 2.8598 - val_mse: 15.8015\n",
      "Epoch 12/300\n",
      "41/81 [==============>...............] - ETA: 0s - loss: 2.7085 - mae: 2.7085 - mse: 14.3413INFO:tensorflow:Assets written to: best_result_checkpoint\\assets\n",
      "81/81 [==============================] - 1s 15ms/step - loss: 2.6804 - mae: 2.6804 - mse: 13.3335 - val_loss: 2.7376 - val_mae: 2.7376 - val_mse: 13.4838\n",
      "Epoch 13/300\n",
      "81/81 [==============================] - 0s 2ms/step - loss: 2.6919 - mae: 2.6919 - mse: 14.3019 - val_loss: 2.7844 - val_mae: 2.7844 - val_mse: 15.0380\n",
      "Epoch 14/300\n",
      "43/81 [==============>...............] - ETA: 0s - loss: 2.7372 - mae: 2.7372 - mse: 12.9865INFO:tensorflow:Assets written to: best_result_checkpoint\\assets\n",
      "81/81 [==============================] - 1s 15ms/step - loss: 2.7426 - mae: 2.7426 - mse: 13.8749 - val_loss: 2.5700 - val_mae: 2.5700 - val_mse: 13.0640\n",
      "Epoch 15/300\n",
      "59/81 [====================>.........] - ETA: 0s - loss: 2.5268 - mae: 2.5268 - mse: 13.1983INFO:tensorflow:Assets written to: best_result_checkpoint\\assets\n",
      "81/81 [==============================] - 1s 16ms/step - loss: 2.5989 - mae: 2.5989 - mse: 13.4825 - val_loss: 2.3961 - val_mae: 2.3961 - val_mse: 11.1636\n",
      "Epoch 16/300\n",
      "45/81 [===============>..............] - ETA: 0s - loss: 2.4725 - mae: 2.4725 - mse: 13.7008INFO:tensorflow:Assets written to: best_result_checkpoint\\assets\n",
      "81/81 [==============================] - 1s 14ms/step - loss: 2.5987 - mae: 2.5987 - mse: 14.0986 - val_loss: 2.3675 - val_mae: 2.3675 - val_mse: 11.2592\n",
      "Epoch 17/300\n",
      "81/81 [==============================] - 0s 2ms/step - loss: 2.6940 - mae: 2.6940 - mse: 14.1352 - val_loss: 2.4124 - val_mae: 2.4124 - val_mse: 11.0349\n",
      "Epoch 18/300\n",
      "39/81 [=============>................] - ETA: 0s - loss: 2.7309 - mae: 2.7309 - mse: 14.7739INFO:tensorflow:Assets written to: best_result_checkpoint\\assets\n",
      "81/81 [==============================] - 1s 15ms/step - loss: 2.7023 - mae: 2.7023 - mse: 14.8688 - val_loss: 2.2749 - val_mae: 2.2749 - val_mse: 9.8544\n",
      "Epoch 19/300\n",
      "81/81 [==============================] - 0s 2ms/step - loss: 2.5927 - mae: 2.5927 - mse: 13.7485 - val_loss: 2.3531 - val_mae: 2.3531 - val_mse: 10.5642\n",
      "Epoch 20/300\n",
      "42/81 [==============>...............] - ETA: 0s - loss: 2.5973 - mae: 2.5973 - mse: 15.0594INFO:tensorflow:Assets written to: best_result_checkpoint\\assets\n",
      "81/81 [==============================] - 1s 16ms/step - loss: 2.5563 - mae: 2.5563 - mse: 12.5923 - val_loss: 2.2574 - val_mae: 2.2574 - val_mse: 10.0882\n",
      "Epoch 21/300\n",
      "44/81 [===============>..............] - ETA: 0s - loss: 2.4668 - mae: 2.4668 - mse: 11.1651INFO:tensorflow:Assets written to: best_result_checkpoint\\assets\n",
      "81/81 [==============================] - 1s 14ms/step - loss: 2.6172 - mae: 2.6172 - mse: 13.2767 - val_loss: 2.1168 - val_mae: 2.1168 - val_mse: 8.9545\n",
      "Epoch 22/300\n",
      "44/81 [===============>..............] - ETA: 0s - loss: 2.6426 - mae: 2.6426 - mse: 14.9752INFO:tensorflow:Assets written to: best_result_checkpoint\\assets\n",
      "81/81 [==============================] - 1s 15ms/step - loss: 2.6584 - mae: 2.6584 - mse: 14.3297 - val_loss: 2.0081 - val_mae: 2.0081 - val_mse: 8.0884\n",
      "Epoch 23/300\n",
      "81/81 [==============================] - 0s 1ms/step - loss: 2.5973 - mae: 2.5973 - mse: 12.3082 - val_loss: 2.4844 - val_mae: 2.4844 - val_mse: 10.8734\n",
      "Epoch 24/300\n",
      "81/81 [==============================] - 0s 1ms/step - loss: 2.6665 - mae: 2.6665 - mse: 13.4989 - val_loss: 2.1984 - val_mae: 2.1984 - val_mse: 9.6782\n",
      "Epoch 25/300\n",
      "81/81 [==============================] - 0s 1ms/step - loss: 2.5321 - mae: 2.5321 - mse: 12.3388 - val_loss: 2.1338 - val_mae: 2.1338 - val_mse: 8.8408\n",
      "Epoch 26/300\n",
      "81/81 [==============================] - 0s 1ms/step - loss: 2.4686 - mae: 2.4686 - mse: 12.3204 - val_loss: 2.1204 - val_mae: 2.1204 - val_mse: 8.6021\n",
      "Epoch 27/300\n",
      "81/81 [==============================] - 0s 1ms/step - loss: 2.6659 - mae: 2.6659 - mse: 12.9254 - val_loss: 2.4654 - val_mae: 2.4654 - val_mse: 11.2586\n",
      "Epoch 28/300\n",
      "81/81 [==============================] - 0s 1ms/step - loss: 2.6114 - mae: 2.6114 - mse: 13.1969 - val_loss: 2.0633 - val_mae: 2.0633 - val_mse: 9.1873\n",
      "Epoch 29/300\n",
      "81/81 [==============================] - 0s 1ms/step - loss: 2.4526 - mae: 2.4526 - mse: 11.0192 - val_loss: 2.1364 - val_mae: 2.1364 - val_mse: 10.1613\n",
      "Epoch 30/300\n",
      "81/81 [==============================] - 0s 2ms/step - loss: 2.5246 - mae: 2.5246 - mse: 11.6974 - val_loss: 2.5441 - val_mae: 2.5441 - val_mse: 12.1588\n",
      "Epoch 31/300\n",
      "61/81 [=====================>........] - ETA: 0s - loss: 2.4608 - mae: 2.4608 - mse: 10.4408INFO:tensorflow:Assets written to: best_result_checkpoint\\assets\n",
      "81/81 [==============================] - 1s 16ms/step - loss: 2.4864 - mae: 2.4864 - mse: 11.8320 - val_loss: 1.9960 - val_mae: 1.9960 - val_mse: 8.6472\n",
      "Epoch 32/300\n",
      "81/81 [==============================] - 0s 2ms/step - loss: 2.3696 - mae: 2.3696 - mse: 10.3488 - val_loss: 2.0398 - val_mae: 2.0398 - val_mse: 9.4002\n",
      "Epoch 33/300\n",
      "81/81 [==============================] - 0s 1ms/step - loss: 2.5477 - mae: 2.5477 - mse: 11.9159 - val_loss: 2.2460 - val_mae: 2.2460 - val_mse: 10.6492\n",
      "Epoch 34/300\n",
      "81/81 [==============================] - 0s 2ms/step - loss: 2.4885 - mae: 2.4885 - mse: 10.9305 - val_loss: 2.0461 - val_mae: 2.0461 - val_mse: 8.7685\n",
      "Epoch 35/300\n",
      "81/81 [==============================] - 0s 2ms/step - loss: 2.3748 - mae: 2.3748 - mse: 10.8165 - val_loss: 2.0902 - val_mae: 2.0902 - val_mse: 9.2136\n",
      "Epoch 36/300\n",
      "45/81 [===============>..............] - ETA: 0s - loss: 2.5608 - mae: 2.5608 - mse: 13.7079INFO:tensorflow:Assets written to: best_result_checkpoint\\assets\n",
      "81/81 [==============================] - 1s 14ms/step - loss: 2.4295 - mae: 2.4295 - mse: 12.2099 - val_loss: 1.9344 - val_mae: 1.9344 - val_mse: 7.7818\n",
      "Epoch 37/300\n",
      "81/81 [==============================] - 0s 2ms/step - loss: 2.4254 - mae: 2.4254 - mse: 10.8537 - val_loss: 2.0225 - val_mae: 2.0225 - val_mse: 8.9982\n",
      "Epoch 38/300\n",
      "42/81 [==============>...............] - ETA: 0s - loss: 2.2308 - mae: 2.2308 - mse: 8.5012INFO:tensorflow:Assets written to: best_result_checkpoint\\assets\n",
      "81/81 [==============================] - 1s 16ms/step - loss: 2.3616 - mae: 2.3616 - mse: 11.2959 - val_loss: 1.8702 - val_mae: 1.8702 - val_mse: 7.5953\n",
      "Epoch 39/300\n",
      "81/81 [==============================] - 0s 1ms/step - loss: 2.3774 - mae: 2.3774 - mse: 11.8775 - val_loss: 2.3439 - val_mae: 2.3439 - val_mse: 9.3019\n",
      "Epoch 40/300\n",
      "81/81 [==============================] - 0s 1ms/step - loss: 2.4284 - mae: 2.4284 - mse: 11.4237 - val_loss: 1.9296 - val_mae: 1.9296 - val_mse: 7.9002\n",
      "Epoch 41/300\n",
      "81/81 [==============================] - 0s 2ms/step - loss: 2.2786 - mae: 2.2786 - mse: 9.7365 - val_loss: 2.0288 - val_mae: 2.0288 - val_mse: 8.1555\n",
      "Epoch 42/300\n",
      "81/81 [==============================] - 0s 1ms/step - loss: 2.2257 - mae: 2.2257 - mse: 9.2619 - val_loss: 2.1375 - val_mae: 2.1375 - val_mse: 10.2027\n",
      "Epoch 43/300\n",
      "81/81 [==============================] - 0s 2ms/step - loss: 2.2053 - mae: 2.2053 - mse: 9.0590 - val_loss: 2.3176 - val_mae: 2.3176 - val_mse: 9.8073\n",
      "Epoch 44/300\n",
      "43/81 [==============>...............] - ETA: 0s - loss: 2.1990 - mae: 2.1990 - mse: 10.4934INFO:tensorflow:Assets written to: best_result_checkpoint\\assets\n",
      "81/81 [==============================] - 1s 16ms/step - loss: 2.3770 - mae: 2.3770 - mse: 10.9663 - val_loss: 1.7607 - val_mae: 1.7607 - val_mse: 6.5266\n",
      "Epoch 45/300\n",
      "45/81 [===============>..............] - ETA: 0s - loss: 2.4063 - mae: 2.4063 - mse: 11.6691INFO:tensorflow:Assets written to: best_result_checkpoint\\assets\n",
      "81/81 [==============================] - 1s 16ms/step - loss: 2.3306 - mae: 2.3306 - mse: 10.3013 - val_loss: 1.6832 - val_mae: 1.6832 - val_mse: 6.1638\n",
      "Epoch 46/300\n",
      "81/81 [==============================] - 0s 1ms/step - loss: 2.3997 - mae: 2.3997 - mse: 10.1405 - val_loss: 2.0655 - val_mae: 2.0655 - val_mse: 9.0296\n",
      "Epoch 47/300\n",
      "81/81 [==============================] - 0s 2ms/step - loss: 2.3025 - mae: 2.3025 - mse: 9.4648 - val_loss: 1.9476 - val_mae: 1.9476 - val_mse: 7.3472\n",
      "Epoch 48/300\n",
      "81/81 [==============================] - 0s 1ms/step - loss: 2.4014 - mae: 2.4014 - mse: 10.7295 - val_loss: 1.7965 - val_mae: 1.7965 - val_mse: 7.5924\n",
      "Epoch 49/300\n",
      "81/81 [==============================] - 0s 1ms/step - loss: 2.2469 - mae: 2.2469 - mse: 9.1453 - val_loss: 1.7662 - val_mae: 1.7662 - val_mse: 7.1494\n",
      "Epoch 50/300\n",
      "81/81 [==============================] - 0s 1ms/step - loss: 2.3669 - mae: 2.3669 - mse: 11.0772 - val_loss: 2.1875 - val_mae: 2.1875 - val_mse: 10.1323\n",
      "Epoch 51/300\n",
      "81/81 [==============================] - 0s 1ms/step - loss: 2.2522 - mae: 2.2522 - mse: 9.8852 - val_loss: 1.8710 - val_mae: 1.8710 - val_mse: 7.7001\n",
      "Epoch 52/300\n",
      "46/81 [================>.............] - ETA: 0s - loss: 2.5480 - mae: 2.5480 - mse: 13.2082INFO:tensorflow:Assets written to: best_result_checkpoint\\assets\n",
      "81/81 [==============================] - 1s 13ms/step - loss: 2.3743 - mae: 2.3743 - mse: 10.9823 - val_loss: 1.5916 - val_mae: 1.5916 - val_mse: 5.5974\n",
      "Epoch 53/300\n",
      "81/81 [==============================] - 0s 1ms/step - loss: 2.1868 - mae: 2.1868 - mse: 9.0578 - val_loss: 2.1922 - val_mae: 2.1922 - val_mse: 9.0891\n",
      "Epoch 54/300\n",
      "81/81 [==============================] - 0s 1ms/step - loss: 2.2445 - mae: 2.2445 - mse: 10.0534 - val_loss: 2.0867 - val_mae: 2.0867 - val_mse: 8.9459\n",
      "Epoch 55/300\n",
      "81/81 [==============================] - 0s 1ms/step - loss: 2.2929 - mae: 2.2929 - mse: 9.8837 - val_loss: 2.1089 - val_mae: 2.1089 - val_mse: 10.0608\n",
      "Epoch 56/300\n",
      "81/81 [==============================] - 0s 1ms/step - loss: 2.2925 - mae: 2.2925 - mse: 9.6951 - val_loss: 1.6810 - val_mae: 1.6810 - val_mse: 6.5833\n",
      "Epoch 57/300\n",
      "81/81 [==============================] - 0s 1ms/step - loss: 2.3221 - mae: 2.3221 - mse: 9.4825 - val_loss: 1.7899 - val_mae: 1.7899 - val_mse: 6.8192\n",
      "Epoch 58/300\n",
      "81/81 [==============================] - 0s 2ms/step - loss: 2.4492 - mae: 2.4492 - mse: 11.5066 - val_loss: 1.6651 - val_mae: 1.6651 - val_mse: 6.7245\n",
      "Epoch 59/300\n",
      "81/81 [==============================] - 0s 1ms/step - loss: 2.1904 - mae: 2.1904 - mse: 10.1471 - val_loss: 1.7885 - val_mae: 1.7885 - val_mse: 7.3354\n",
      "Epoch 60/300\n",
      "81/81 [==============================] - 0s 2ms/step - loss: 2.1891 - mae: 2.1891 - mse: 8.2426 - val_loss: 1.7407 - val_mae: 1.7407 - val_mse: 6.9695\n",
      "Epoch 61/300\n",
      "81/81 [==============================] - 0s 2ms/step - loss: 2.1070 - mae: 2.1070 - mse: 8.8060 - val_loss: 1.7788 - val_mae: 1.7788 - val_mse: 7.3042\n",
      "Epoch 62/300\n",
      "81/81 [==============================] - 0s 1ms/step - loss: 2.2607 - mae: 2.2607 - mse: 9.8977 - val_loss: 1.6211 - val_mae: 1.6211 - val_mse: 6.5355\n",
      "Epoch 63/300\n",
      "81/81 [==============================] - 0s 1ms/step - loss: 2.3007 - mae: 2.3007 - mse: 9.7858 - val_loss: 2.1247 - val_mae: 2.1247 - val_mse: 8.5831\n",
      "Epoch 64/300\n",
      "81/81 [==============================] - 0s 1ms/step - loss: 2.2748 - mae: 2.2748 - mse: 8.9936 - val_loss: 1.9770 - val_mae: 1.9770 - val_mse: 9.3896\n",
      "Epoch 65/300\n",
      "81/81 [==============================] - 0s 2ms/step - loss: 2.2519 - mae: 2.2519 - mse: 9.2515 - val_loss: 1.6409 - val_mae: 1.6409 - val_mse: 6.3200\n",
      "Epoch 66/300\n",
      "81/81 [==============================] - 0s 1ms/step - loss: 2.3039 - mae: 2.3039 - mse: 9.3734 - val_loss: 1.7305 - val_mae: 1.7305 - val_mse: 6.6612\n",
      "Epoch 67/300\n",
      "81/81 [==============================] - 0s 1ms/step - loss: 2.1513 - mae: 2.1513 - mse: 8.9646 - val_loss: 1.7611 - val_mae: 1.7611 - val_mse: 7.2645\n",
      "Epoch 68/300\n",
      "81/81 [==============================] - 0s 1ms/step - loss: 2.3333 - mae: 2.3333 - mse: 9.9600 - val_loss: 2.3131 - val_mae: 2.3131 - val_mse: 12.5363\n",
      "Epoch 69/300\n",
      "81/81 [==============================] - 0s 1ms/step - loss: 2.2534 - mae: 2.2534 - mse: 9.6830 - val_loss: 2.2533 - val_mae: 2.2533 - val_mse: 10.9815\n",
      "Epoch 70/300\n",
      "81/81 [==============================] - 0s 1ms/step - loss: 2.2995 - mae: 2.2995 - mse: 9.9663 - val_loss: 2.0282 - val_mae: 2.0282 - val_mse: 9.6225\n",
      "Epoch 71/300\n",
      "81/81 [==============================] - 0s 1ms/step - loss: 2.1340 - mae: 2.1340 - mse: 8.6579 - val_loss: 1.8044 - val_mae: 1.8044 - val_mse: 8.1966\n",
      "Epoch 72/300\n",
      "81/81 [==============================] - 0s 1ms/step - loss: 2.2133 - mae: 2.2133 - mse: 8.7313 - val_loss: 1.6900 - val_mae: 1.6900 - val_mse: 7.1221\n",
      "Epoch 73/300\n",
      "81/81 [==============================] - 0s 1ms/step - loss: 2.1585 - mae: 2.1585 - mse: 8.4617 - val_loss: 1.7547 - val_mae: 1.7547 - val_mse: 6.7191\n",
      "Epoch 74/300\n",
      "81/81 [==============================] - 0s 1ms/step - loss: 2.1453 - mae: 2.1453 - mse: 7.8113 - val_loss: 1.9191 - val_mae: 1.9191 - val_mse: 8.9489\n",
      "Epoch 75/300\n",
      "81/81 [==============================] - 0s 1ms/step - loss: 2.0946 - mae: 2.0946 - mse: 8.2122 - val_loss: 1.7202 - val_mae: 1.7202 - val_mse: 6.6676\n",
      "Epoch 76/300\n",
      "81/81 [==============================] - 0s 1ms/step - loss: 2.1390 - mae: 2.1390 - mse: 8.6357 - val_loss: 2.4813 - val_mae: 2.4813 - val_mse: 11.0531\n",
      "Epoch 77/300\n"
     ]
    },
    {
     "name": "stdout",
     "output_type": "stream",
     "text": [
      "81/81 [==============================] - 0s 1ms/step - loss: 2.1866 - mae: 2.1866 - mse: 8.9382 - val_loss: 2.1461 - val_mae: 2.1461 - val_mse: 10.0108\n",
      "Epoch 78/300\n",
      "81/81 [==============================] - 0s 1ms/step - loss: 2.1047 - mae: 2.1047 - mse: 8.8651 - val_loss: 1.6127 - val_mae: 1.6127 - val_mse: 6.1608\n",
      "Epoch 79/300\n",
      "81/81 [==============================] - 0s 1ms/step - loss: 1.9854 - mae: 1.9854 - mse: 7.5688 - val_loss: 1.8406 - val_mae: 1.8406 - val_mse: 7.9390\n",
      "Epoch 80/300\n",
      "81/81 [==============================] - 0s 1ms/step - loss: 2.2177 - mae: 2.2177 - mse: 8.8739 - val_loss: 1.8414 - val_mae: 1.8414 - val_mse: 8.2775\n",
      "Epoch 81/300\n",
      "81/81 [==============================] - 0s 1ms/step - loss: 2.2163 - mae: 2.2163 - mse: 8.3764 - val_loss: 1.8457 - val_mae: 1.8457 - val_mse: 8.2611\n",
      "Epoch 82/300\n",
      "81/81 [==============================] - 0s 1ms/step - loss: 2.0919 - mae: 2.0919 - mse: 8.8265 - val_loss: 1.8024 - val_mae: 1.8024 - val_mse: 7.8948\n",
      "Epoch 83/300\n",
      "81/81 [==============================] - 0s 1ms/step - loss: 2.0656 - mae: 2.0656 - mse: 8.4907 - val_loss: 1.7466 - val_mae: 1.7466 - val_mse: 7.3094\n",
      "Epoch 84/300\n",
      "81/81 [==============================] - 0s 1ms/step - loss: 2.1018 - mae: 2.1018 - mse: 7.8299 - val_loss: 2.2501 - val_mae: 2.2501 - val_mse: 10.3312\n",
      "Epoch 85/300\n",
      "81/81 [==============================] - 0s 1ms/step - loss: 1.9470 - mae: 1.9470 - mse: 7.0616 - val_loss: 1.6378 - val_mae: 1.6378 - val_mse: 6.5253\n",
      "Epoch 86/300\n",
      "45/81 [===============>..............] - ETA: 0s - loss: 2.2228 - mae: 2.2228 - mse: 8.9622INFO:tensorflow:Assets written to: best_result_checkpoint\\assets\n",
      "81/81 [==============================] - 1s 15ms/step - loss: 2.1092 - mae: 2.1092 - mse: 8.3650 - val_loss: 1.5545 - val_mae: 1.5545 - val_mse: 5.9934\n",
      "Epoch 87/300\n",
      "81/81 [==============================] - 0s 1ms/step - loss: 2.1438 - mae: 2.1438 - mse: 8.0216 - val_loss: 1.6312 - val_mae: 1.6312 - val_mse: 6.4549\n",
      "Epoch 88/300\n",
      "43/81 [==============>...............] - ETA: 0s - loss: 2.1424 - mae: 2.1424 - mse: 8.2470 INFO:tensorflow:Assets written to: best_result_checkpoint\\assets\n",
      "81/81 [==============================] - 1s 16ms/step - loss: 2.0644 - mae: 2.0644 - mse: 7.9788 - val_loss: 1.5170 - val_mae: 1.5170 - val_mse: 5.6322\n",
      "Epoch 89/300\n",
      "81/81 [==============================] - 0s 1ms/step - loss: 2.0051 - mae: 2.0051 - mse: 7.6524 - val_loss: 1.5534 - val_mae: 1.5534 - val_mse: 5.9556\n",
      "Epoch 90/300\n",
      "81/81 [==============================] - 0s 1ms/step - loss: 2.1102 - mae: 2.1102 - mse: 8.0724 - val_loss: 1.8688 - val_mae: 1.8688 - val_mse: 8.3735\n",
      "Epoch 91/300\n",
      "81/81 [==============================] - 0s 1ms/step - loss: 2.0356 - mae: 2.0356 - mse: 8.0193 - val_loss: 1.5310 - val_mae: 1.5310 - val_mse: 5.9808\n",
      "Epoch 92/300\n",
      "81/81 [==============================] - 0s 1ms/step - loss: 2.0508 - mae: 2.0508 - mse: 8.1592 - val_loss: 1.8855 - val_mae: 1.8855 - val_mse: 7.6109\n",
      "Epoch 93/300\n",
      "81/81 [==============================] - 0s 1ms/step - loss: 2.0804 - mae: 2.0804 - mse: 8.1371 - val_loss: 1.7857 - val_mae: 1.7857 - val_mse: 6.9191\n",
      "Epoch 94/300\n",
      "81/81 [==============================] - 0s 1ms/step - loss: 2.2348 - mae: 2.2348 - mse: 8.6176 - val_loss: 2.4810 - val_mae: 2.4810 - val_mse: 9.9031\n",
      "Epoch 95/300\n",
      "81/81 [==============================] - 0s 1ms/step - loss: 2.2353 - mae: 2.2353 - mse: 9.2023 - val_loss: 1.5518 - val_mae: 1.5518 - val_mse: 5.6845\n",
      "Epoch 96/300\n",
      "47/81 [================>.............] - ETA: 0s - loss: 1.8358 - mae: 1.8358 - mse: 6.3823INFO:tensorflow:Assets written to: best_result_checkpoint\\assets\n",
      "81/81 [==============================] - 1s 13ms/step - loss: 2.0847 - mae: 2.0847 - mse: 8.9534 - val_loss: 1.3648 - val_mae: 1.3648 - val_mse: 4.6405\n",
      "Epoch 97/300\n",
      "81/81 [==============================] - 0s 1ms/step - loss: 2.2463 - mae: 2.2463 - mse: 8.9501 - val_loss: 2.1069 - val_mae: 2.1069 - val_mse: 8.3689\n",
      "Epoch 98/300\n",
      "81/81 [==============================] - 0s 1ms/step - loss: 2.0500 - mae: 2.0500 - mse: 7.2555 - val_loss: 1.4930 - val_mae: 1.4930 - val_mse: 4.4345\n",
      "Epoch 99/300\n",
      "81/81 [==============================] - 0s 1ms/step - loss: 2.0431 - mae: 2.0431 - mse: 7.2362 - val_loss: 1.4622 - val_mae: 1.4622 - val_mse: 3.8268\n",
      "Epoch 100/300\n",
      "47/81 [================>.............] - ETA: 0s - loss: 2.0502 - mae: 2.0502 - mse: 8.3890INFO:tensorflow:Assets written to: best_result_checkpoint\\assets\n",
      "81/81 [==============================] - 1s 16ms/step - loss: 2.0067 - mae: 2.0067 - mse: 7.6114 - val_loss: 1.3376 - val_mae: 1.3376 - val_mse: 3.8045\n",
      "Epoch 101/300\n",
      "81/81 [==============================] - 0s 2ms/step - loss: 2.1177 - mae: 2.1177 - mse: 8.3713 - val_loss: 1.3434 - val_mae: 1.3434 - val_mse: 4.5376\n",
      "Epoch 102/300\n",
      "81/81 [==============================] - 0s 2ms/step - loss: 2.1685 - mae: 2.1685 - mse: 7.8599 - val_loss: 1.9100 - val_mae: 1.9100 - val_mse: 6.7946\n",
      "Epoch 103/300\n",
      "81/81 [==============================] - 0s 1ms/step - loss: 2.1739 - mae: 2.1739 - mse: 8.0969 - val_loss: 1.9237 - val_mae: 1.9237 - val_mse: 8.2168\n",
      "Epoch 104/300\n",
      "81/81 [==============================] - 0s 1ms/step - loss: 2.0562 - mae: 2.0562 - mse: 7.8433 - val_loss: 1.5076 - val_mae: 1.5076 - val_mse: 5.5426\n",
      "Epoch 105/300\n",
      "81/81 [==============================] - 0s 1ms/step - loss: 2.1069 - mae: 2.1069 - mse: 7.9368 - val_loss: 1.3579 - val_mae: 1.3579 - val_mse: 4.4264\n",
      "Epoch 106/300\n",
      "47/81 [================>.............] - ETA: 0s - loss: 2.0322 - mae: 2.0322 - mse: 7.2387INFO:tensorflow:Assets written to: best_result_checkpoint\\assets\n",
      "81/81 [==============================] - 1s 15ms/step - loss: 2.0999 - mae: 2.0999 - mse: 7.9639 - val_loss: 1.3273 - val_mae: 1.3273 - val_mse: 4.3774\n",
      "Epoch 107/300\n",
      "81/81 [==============================] - 0s 1ms/step - loss: 2.0458 - mae: 2.0458 - mse: 7.4745 - val_loss: 2.0201 - val_mae: 2.0201 - val_mse: 7.2977\n",
      "Epoch 108/300\n",
      "44/81 [===============>..............] - ETA: 0s - loss: 2.3279 - mae: 2.3279 - mse: 9.7130INFO:tensorflow:Assets written to: best_result_checkpoint\\assets\n",
      "81/81 [==============================] - 1s 16ms/step - loss: 2.2227 - mae: 2.2227 - mse: 8.7158 - val_loss: 1.3247 - val_mae: 1.3247 - val_mse: 3.9565\n",
      "Epoch 109/300\n",
      "81/81 [==============================] - 0s 1ms/step - loss: 1.9974 - mae: 1.9974 - mse: 7.5915 - val_loss: 1.6183 - val_mae: 1.6183 - val_mse: 6.1268\n",
      "Epoch 110/300\n",
      "81/81 [==============================] - 0s 2ms/step - loss: 2.2437 - mae: 2.2437 - mse: 9.2078 - val_loss: 1.5676 - val_mae: 1.5676 - val_mse: 5.2077\n",
      "Epoch 111/300\n",
      "81/81 [==============================] - 0s 2ms/step - loss: 2.0451 - mae: 2.0451 - mse: 7.7958 - val_loss: 1.6346 - val_mae: 1.6346 - val_mse: 5.9683\n",
      "Epoch 112/300\n",
      "81/81 [==============================] - 0s 1ms/step - loss: 1.9557 - mae: 1.9557 - mse: 6.8803 - val_loss: 1.4662 - val_mae: 1.4662 - val_mse: 5.2822\n",
      "Epoch 113/300\n",
      "81/81 [==============================] - 0s 1ms/step - loss: 1.9488 - mae: 1.9488 - mse: 7.2187 - val_loss: 1.4630 - val_mae: 1.4630 - val_mse: 5.2624\n",
      "Epoch 114/300\n",
      "81/81 [==============================] - 0s 1ms/step - loss: 2.0917 - mae: 2.0917 - mse: 8.0472 - val_loss: 1.6705 - val_mae: 1.6705 - val_mse: 5.9953\n",
      "Epoch 115/300\n",
      "81/81 [==============================] - 0s 2ms/step - loss: 1.9843 - mae: 1.9843 - mse: 6.7244 - val_loss: 1.8127 - val_mae: 1.8127 - val_mse: 7.2880\n",
      "Epoch 116/300\n",
      "81/81 [==============================] - 0s 1ms/step - loss: 2.0600 - mae: 2.0600 - mse: 7.3250 - val_loss: 1.6363 - val_mae: 1.6363 - val_mse: 5.9676\n",
      "Epoch 117/300\n",
      "81/81 [==============================] - 0s 1ms/step - loss: 2.0254 - mae: 2.0254 - mse: 7.5287 - val_loss: 1.7538 - val_mae: 1.7538 - val_mse: 5.1512\n",
      "Epoch 118/300\n",
      "81/81 [==============================] - 0s 1ms/step - loss: 2.0294 - mae: 2.0294 - mse: 7.1460 - val_loss: 1.3389 - val_mae: 1.3389 - val_mse: 3.5430\n",
      "Epoch 119/300\n",
      "81/81 [==============================] - 0s 1ms/step - loss: 2.1384 - mae: 2.1384 - mse: 8.0914 - val_loss: 1.4815 - val_mae: 1.4815 - val_mse: 5.3849\n",
      "Epoch 120/300\n",
      "81/81 [==============================] - 0s 1ms/step - loss: 2.0554 - mae: 2.0554 - mse: 8.0336 - val_loss: 1.6733 - val_mae: 1.6733 - val_mse: 5.7736\n",
      "Epoch 121/300\n",
      "44/81 [===============>..............] - ETA: 0s - loss: 2.1368 - mae: 2.1368 - mse: 8.1944 INFO:tensorflow:Assets written to: best_result_checkpoint\\assets\n",
      "81/81 [==============================] - 1s 15ms/step - loss: 2.0844 - mae: 2.0844 - mse: 7.9003 - val_loss: 1.2863 - val_mae: 1.2863 - val_mse: 3.4908\n",
      "Epoch 122/300\n",
      "81/81 [==============================] - 0s 2ms/step - loss: 1.9946 - mae: 1.9946 - mse: 6.9612 - val_loss: 1.7691 - val_mae: 1.7691 - val_mse: 5.8380\n",
      "Epoch 123/300\n",
      "81/81 [==============================] - 0s 1ms/step - loss: 1.9864 - mae: 1.9864 - mse: 7.4153 - val_loss: 1.3826 - val_mae: 1.3826 - val_mse: 3.4959\n",
      "Epoch 124/300\n",
      "81/81 [==============================] - 0s 1ms/step - loss: 1.9610 - mae: 1.9610 - mse: 7.6748 - val_loss: 1.4227 - val_mae: 1.4227 - val_mse: 4.7021\n",
      "Epoch 125/300\n",
      "81/81 [==============================] - 0s 2ms/step - loss: 2.0017 - mae: 2.0017 - mse: 7.5204 - val_loss: 1.5000 - val_mae: 1.5000 - val_mse: 5.2996\n",
      "Epoch 126/300\n",
      "81/81 [==============================] - 0s 2ms/step - loss: 1.9790 - mae: 1.9790 - mse: 7.3375 - val_loss: 1.3228 - val_mae: 1.3228 - val_mse: 3.6824\n",
      "Epoch 127/300\n",
      "81/81 [==============================] - 0s 2ms/step - loss: 2.0177 - mae: 2.0177 - mse: 7.5686 - val_loss: 1.3103 - val_mae: 1.3103 - val_mse: 4.0225\n",
      "Epoch 128/300\n",
      "81/81 [==============================] - 0s 1ms/step - loss: 1.9075 - mae: 1.9075 - mse: 6.7413 - val_loss: 1.3327 - val_mae: 1.3327 - val_mse: 4.3210\n",
      "Epoch 129/300\n",
      "81/81 [==============================] - 0s 1ms/step - loss: 2.0233 - mae: 2.0233 - mse: 7.2486 - val_loss: 1.6966 - val_mae: 1.6966 - val_mse: 4.6862\n",
      "Epoch 130/300\n",
      "81/81 [==============================] - 0s 1ms/step - loss: 2.0407 - mae: 2.0407 - mse: 7.6616 - val_loss: 1.4036 - val_mae: 1.4036 - val_mse: 4.4560\n",
      "Epoch 131/300\n",
      "46/81 [================>.............] - ETA: 0s - loss: 2.0816 - mae: 2.0816 - mse: 7.9286INFO:tensorflow:Assets written to: best_result_checkpoint\\assets\n",
      "81/81 [==============================] - 1s 13ms/step - loss: 1.9961 - mae: 1.9961 - mse: 7.4753 - val_loss: 1.2757 - val_mae: 1.2757 - val_mse: 3.6611\n",
      "Epoch 132/300\n",
      "81/81 [==============================] - 0s 1ms/step - loss: 2.0797 - mae: 2.0797 - mse: 7.7198 - val_loss: 1.3123 - val_mae: 1.3123 - val_mse: 3.8080\n",
      "Epoch 133/300\n",
      "46/81 [================>.............] - ETA: 0s - loss: 2.0283 - mae: 2.0283 - mse: 6.6326INFO:tensorflow:Assets written to: best_result_checkpoint\\assets\n",
      "81/81 [==============================] - 1s 16ms/step - loss: 2.0030 - mae: 2.0030 - mse: 7.0857 - val_loss: 1.2751 - val_mae: 1.2751 - val_mse: 3.0881\n",
      "Epoch 134/300\n",
      "81/81 [==============================] - 0s 2ms/step - loss: 1.9130 - mae: 1.9130 - mse: 6.6300 - val_loss: 1.3129 - val_mae: 1.3129 - val_mse: 4.0264\n",
      "Epoch 135/300\n",
      "81/81 [==============================] - 0s 1ms/step - loss: 1.9626 - mae: 1.9626 - mse: 6.8157 - val_loss: 1.3661 - val_mae: 1.3661 - val_mse: 3.9290\n",
      "Epoch 136/300\n",
      "81/81 [==============================] - 0s 2ms/step - loss: 2.0737 - mae: 2.0737 - mse: 7.5684 - val_loss: 1.4734 - val_mae: 1.4734 - val_mse: 4.6586\n",
      "Epoch 137/300\n",
      "81/81 [==============================] - 0s 1ms/step - loss: 2.1693 - mae: 2.1693 - mse: 8.2787 - val_loss: 1.3758 - val_mae: 1.3758 - val_mse: 3.6894\n",
      "Epoch 138/300\n",
      "81/81 [==============================] - 0s 1ms/step - loss: 2.0407 - mae: 2.0407 - mse: 7.3892 - val_loss: 1.4153 - val_mae: 1.4153 - val_mse: 4.5131\n",
      "Epoch 139/300\n",
      "81/81 [==============================] - 0s 1ms/step - loss: 1.9518 - mae: 1.9518 - mse: 6.6882 - val_loss: 1.8881 - val_mae: 1.8881 - val_mse: 6.6216\n",
      "Epoch 140/300\n",
      "81/81 [==============================] - 0s 1ms/step - loss: 1.9713 - mae: 1.9713 - mse: 6.9066 - val_loss: 1.5203 - val_mae: 1.5203 - val_mse: 4.3994\n",
      "Epoch 141/300\n",
      "81/81 [==============================] - 0s 1ms/step - loss: 1.9953 - mae: 1.9953 - mse: 6.7202 - val_loss: 1.3818 - val_mae: 1.3818 - val_mse: 3.6527\n",
      "Epoch 142/300\n",
      "81/81 [==============================] - 0s 1ms/step - loss: 1.9301 - mae: 1.9301 - mse: 6.5824 - val_loss: 1.4724 - val_mae: 1.4724 - val_mse: 3.6965\n",
      "Epoch 143/300\n",
      "81/81 [==============================] - 0s 1ms/step - loss: 1.9130 - mae: 1.9130 - mse: 6.6085 - val_loss: 1.4948 - val_mae: 1.4948 - val_mse: 4.7307\n",
      "Epoch 144/300\n",
      "81/81 [==============================] - 0s 1ms/step - loss: 2.1154 - mae: 2.1154 - mse: 7.8193 - val_loss: 1.4665 - val_mae: 1.4665 - val_mse: 4.0880\n",
      "Epoch 145/300\n",
      "81/81 [==============================] - 0s 1ms/step - loss: 1.9552 - mae: 1.9552 - mse: 7.0115 - val_loss: 1.3955 - val_mae: 1.3955 - val_mse: 4.1272\n",
      "Epoch 146/300\n",
      "81/81 [==============================] - 0s 1ms/step - loss: 1.9726 - mae: 1.9726 - mse: 6.6145 - val_loss: 1.3998 - val_mae: 1.3998 - val_mse: 3.9822\n",
      "Epoch 147/300\n",
      "81/81 [==============================] - 0s 1ms/step - loss: 2.0117 - mae: 2.0117 - mse: 7.2536 - val_loss: 1.8217 - val_mae: 1.8217 - val_mse: 5.5279\n",
      "Epoch 148/300\n",
      "81/81 [==============================] - 0s 1ms/step - loss: 2.0685 - mae: 2.0685 - mse: 7.7489 - val_loss: 1.6241 - val_mae: 1.6241 - val_mse: 4.4394\n",
      "Epoch 149/300\n",
      "81/81 [==============================] - 0s 2ms/step - loss: 2.0738 - mae: 2.0738 - mse: 7.4384 - val_loss: 1.4424 - val_mae: 1.4424 - val_mse: 4.1102\n",
      "Epoch 150/300\n",
      "81/81 [==============================] - 0s 1ms/step - loss: 2.0333 - mae: 2.0333 - mse: 6.8689 - val_loss: 1.4936 - val_mae: 1.4936 - val_mse: 3.8806\n",
      "Epoch 151/300\n",
      "81/81 [==============================] - 0s 1ms/step - loss: 1.8776 - mae: 1.8776 - mse: 6.2445 - val_loss: 1.4117 - val_mae: 1.4117 - val_mse: 3.7295\n",
      "Epoch 152/300\n",
      "81/81 [==============================] - 0s 1ms/step - loss: 2.0244 - mae: 2.0244 - mse: 7.2954 - val_loss: 1.4728 - val_mae: 1.4728 - val_mse: 3.8307\n",
      "Epoch 153/300\n",
      "81/81 [==============================] - 0s 1ms/step - loss: 1.9626 - mae: 1.9626 - mse: 7.0743 - val_loss: 1.5887 - val_mae: 1.5887 - val_mse: 3.9250\n",
      "Epoch 154/300\n",
      "81/81 [==============================] - 0s 1ms/step - loss: 1.9449 - mae: 1.9449 - mse: 6.6866 - val_loss: 1.3438 - val_mae: 1.3438 - val_mse: 3.4578\n",
      "Epoch 155/300\n",
      "81/81 [==============================] - 0s 1ms/step - loss: 1.9366 - mae: 1.9366 - mse: 7.1111 - val_loss: 1.2957 - val_mae: 1.2957 - val_mse: 3.2036\n",
      "Epoch 156/300\n",
      "47/81 [================>.............] - ETA: 0s - loss: 1.7328 - mae: 1.7328 - mse: 5.6684INFO:tensorflow:Assets written to: best_result_checkpoint\\assets\n",
      "81/81 [==============================] - 1s 15ms/step - loss: 1.8202 - mae: 1.8202 - mse: 6.1948 - val_loss: 1.2437 - val_mae: 1.2437 - val_mse: 3.2058\n",
      "Epoch 157/300\n",
      "81/81 [==============================] - 0s 1ms/step - loss: 2.0187 - mae: 2.0187 - mse: 7.0063 - val_loss: 1.4153 - val_mae: 1.4153 - val_mse: 3.6633\n",
      "Epoch 158/300\n",
      "81/81 [==============================] - 0s 1ms/step - loss: 1.8061 - mae: 1.8061 - mse: 6.2012 - val_loss: 1.3374 - val_mae: 1.3374 - val_mse: 3.7317\n",
      "Epoch 159/300\n",
      "81/81 [==============================] - 0s 1ms/step - loss: 2.0088 - mae: 2.0088 - mse: 6.9929 - val_loss: 1.4056 - val_mae: 1.4056 - val_mse: 3.9584\n",
      "Epoch 160/300\n",
      "81/81 [==============================] - 0s 1ms/step - loss: 1.8461 - mae: 1.8461 - mse: 6.2377 - val_loss: 1.4855 - val_mae: 1.4855 - val_mse: 4.3075\n",
      "Epoch 161/300\n",
      "81/81 [==============================] - 0s 1ms/step - loss: 2.0076 - mae: 2.0076 - mse: 7.0726 - val_loss: 1.2941 - val_mae: 1.2941 - val_mse: 3.2648\n",
      "Epoch 162/300\n",
      "81/81 [==============================] - 0s 1ms/step - loss: 1.9901 - mae: 1.9901 - mse: 7.2294 - val_loss: 1.4632 - val_mae: 1.4632 - val_mse: 3.6254\n",
      "Epoch 163/300\n",
      "81/81 [==============================] - 0s 1ms/step - loss: 1.9621 - mae: 1.9621 - mse: 6.5847 - val_loss: 1.6177 - val_mae: 1.6177 - val_mse: 4.3668\n",
      "Epoch 164/300\n",
      "81/81 [==============================] - 0s 2ms/step - loss: 1.9533 - mae: 1.9533 - mse: 6.7250 - val_loss: 1.3382 - val_mae: 1.3382 - val_mse: 3.2242\n",
      "Epoch 165/300\n",
      "81/81 [==============================] - 0s 2ms/step - loss: 1.9438 - mae: 1.9438 - mse: 7.1835 - val_loss: 1.3465 - val_mae: 1.3465 - val_mse: 3.3904\n",
      "Epoch 166/300\n",
      "81/81 [==============================] - 0s 1ms/step - loss: 2.0316 - mae: 2.0316 - mse: 7.5226 - val_loss: 1.2724 - val_mae: 1.2724 - val_mse: 3.1776\n"
     ]
    },
    {
     "name": "stdout",
     "output_type": "stream",
     "text": [
      "Epoch 167/300\n",
      "81/81 [==============================] - 0s 1ms/step - loss: 2.0185 - mae: 2.0185 - mse: 7.2010 - val_loss: 1.5252 - val_mae: 1.5252 - val_mse: 4.3352\n",
      "Epoch 168/300\n",
      "81/81 [==============================] - 0s 1ms/step - loss: 1.9692 - mae: 1.9692 - mse: 7.0690 - val_loss: 1.2527 - val_mae: 1.2527 - val_mse: 3.1924\n",
      "Epoch 169/300\n",
      "81/81 [==============================] - 0s 1ms/step - loss: 2.0374 - mae: 2.0374 - mse: 7.4497 - val_loss: 1.4839 - val_mae: 1.4839 - val_mse: 4.1392\n",
      "Epoch 170/300\n",
      "81/81 [==============================] - 0s 1ms/step - loss: 2.0138 - mae: 2.0138 - mse: 7.2319 - val_loss: 1.3148 - val_mae: 1.3148 - val_mse: 3.5089\n",
      "Epoch 171/300\n",
      "81/81 [==============================] - 0s 1ms/step - loss: 2.0982 - mae: 2.0982 - mse: 7.1699 - val_loss: 1.3601 - val_mae: 1.3601 - val_mse: 3.7102\n",
      "Epoch 172/300\n",
      "81/81 [==============================] - 0s 1ms/step - loss: 1.7572 - mae: 1.7572 - mse: 5.4782 - val_loss: 1.2817 - val_mae: 1.2817 - val_mse: 3.1299\n",
      "Epoch 173/300\n",
      "81/81 [==============================] - 0s 1ms/step - loss: 1.9384 - mae: 1.9384 - mse: 6.4230 - val_loss: 1.3854 - val_mae: 1.3854 - val_mse: 3.4189\n",
      "Epoch 174/300\n",
      "81/81 [==============================] - 0s 1ms/step - loss: 1.9079 - mae: 1.9079 - mse: 6.7324 - val_loss: 1.5403 - val_mae: 1.5403 - val_mse: 4.3617\n",
      "Epoch 175/300\n",
      "81/81 [==============================] - 0s 1ms/step - loss: 1.8997 - mae: 1.8997 - mse: 6.6820 - val_loss: 1.3941 - val_mae: 1.3941 - val_mse: 3.5243\n",
      "Epoch 176/300\n",
      "81/81 [==============================] - 0s 1ms/step - loss: 2.0402 - mae: 2.0402 - mse: 6.7677 - val_loss: 1.4620 - val_mae: 1.4620 - val_mse: 3.9283\n",
      "Epoch 177/300\n",
      "81/81 [==============================] - 0s 2ms/step - loss: 1.9202 - mae: 1.9202 - mse: 6.8036 - val_loss: 1.5948 - val_mae: 1.5948 - val_mse: 4.3949\n",
      "Epoch 178/300\n",
      "81/81 [==============================] - 0s 1ms/step - loss: 1.9505 - mae: 1.9505 - mse: 6.8060 - val_loss: 1.2600 - val_mae: 1.2600 - val_mse: 3.0708\n",
      "Epoch 179/300\n",
      "81/81 [==============================] - 0s 1ms/step - loss: 1.8266 - mae: 1.8266 - mse: 5.9345 - val_loss: 1.4804 - val_mae: 1.4804 - val_mse: 4.0373\n",
      "Epoch 180/300\n",
      "46/81 [================>.............] - ETA: 0s - loss: 1.8762 - mae: 1.8762 - mse: 5.8433INFO:tensorflow:Assets written to: best_result_checkpoint\\assets\n",
      "81/81 [==============================] - 1s 13ms/step - loss: 1.8996 - mae: 1.8996 - mse: 6.3436 - val_loss: 1.2394 - val_mae: 1.2394 - val_mse: 3.2182\n",
      "Epoch 181/300\n",
      "81/81 [==============================] - 0s 3ms/step - loss: 1.8012 - mae: 1.8012 - mse: 6.0097 - val_loss: 1.4954 - val_mae: 1.4954 - val_mse: 3.8945\n",
      "Epoch 182/300\n",
      "81/81 [==============================] - 0s 2ms/step - loss: 1.9386 - mae: 1.9386 - mse: 6.7490 - val_loss: 1.7794 - val_mae: 1.7794 - val_mse: 6.1032\n",
      "Epoch 183/300\n",
      "81/81 [==============================] - 0s 1ms/step - loss: 1.8684 - mae: 1.8684 - mse: 6.6011 - val_loss: 1.3474 - val_mae: 1.3474 - val_mse: 3.6336\n",
      "Epoch 184/300\n",
      "81/81 [==============================] - 0s 1ms/step - loss: 1.8384 - mae: 1.8384 - mse: 6.2418 - val_loss: 1.6078 - val_mae: 1.6078 - val_mse: 4.8280\n",
      "Epoch 185/300\n",
      "81/81 [==============================] - 0s 1ms/step - loss: 1.8931 - mae: 1.8931 - mse: 6.7386 - val_loss: 1.4969 - val_mae: 1.4969 - val_mse: 4.1302\n",
      "Epoch 186/300\n",
      "81/81 [==============================] - 0s 1ms/step - loss: 1.8529 - mae: 1.8529 - mse: 6.0789 - val_loss: 1.4301 - val_mae: 1.4301 - val_mse: 3.7471\n",
      "Epoch 187/300\n",
      "81/81 [==============================] - 0s 1ms/step - loss: 1.9042 - mae: 1.9042 - mse: 6.7494 - val_loss: 1.4277 - val_mae: 1.4277 - val_mse: 3.5565\n",
      "Epoch 188/300\n",
      "81/81 [==============================] - 0s 1ms/step - loss: 1.8719 - mae: 1.8719 - mse: 6.6545 - val_loss: 1.4465 - val_mae: 1.4465 - val_mse: 3.8490\n",
      "Epoch 189/300\n",
      "81/81 [==============================] - 0s 1ms/step - loss: 2.0055 - mae: 2.0055 - mse: 7.4349 - val_loss: 1.4911 - val_mae: 1.4911 - val_mse: 3.5893\n",
      "Epoch 190/300\n",
      "81/81 [==============================] - 0s 1ms/step - loss: 1.8589 - mae: 1.8589 - mse: 6.2916 - val_loss: 1.3725 - val_mae: 1.3725 - val_mse: 3.8526\n",
      "Epoch 191/300\n",
      "81/81 [==============================] - 0s 1ms/step - loss: 1.9890 - mae: 1.9890 - mse: 6.5249 - val_loss: 1.4072 - val_mae: 1.4072 - val_mse: 3.7208\n",
      "Epoch 192/300\n",
      "81/81 [==============================] - 0s 1ms/step - loss: 1.7515 - mae: 1.7515 - mse: 5.3364 - val_loss: 1.3237 - val_mae: 1.3237 - val_mse: 3.3866\n",
      "Epoch 193/300\n",
      "81/81 [==============================] - 0s 1ms/step - loss: 1.8824 - mae: 1.8824 - mse: 6.7122 - val_loss: 1.3417 - val_mae: 1.3417 - val_mse: 3.3124\n",
      "Epoch 194/300\n",
      "81/81 [==============================] - 0s 1ms/step - loss: 1.8919 - mae: 1.8919 - mse: 6.7043 - val_loss: 1.2735 - val_mae: 1.2735 - val_mse: 3.2618\n",
      "Epoch 195/300\n",
      "81/81 [==============================] - 0s 1ms/step - loss: 1.8879 - mae: 1.8879 - mse: 6.4874 - val_loss: 1.4394 - val_mae: 1.4394 - val_mse: 3.6512\n",
      "Epoch 196/300\n",
      "81/81 [==============================] - 0s 1ms/step - loss: 1.9462 - mae: 1.9462 - mse: 6.7639 - val_loss: 1.4270 - val_mae: 1.4270 - val_mse: 3.8151\n",
      "Epoch 197/300\n",
      "81/81 [==============================] - 0s 1ms/step - loss: 1.9368 - mae: 1.9368 - mse: 6.7290 - val_loss: 1.4384 - val_mae: 1.4384 - val_mse: 3.6757\n",
      "Epoch 198/300\n",
      "81/81 [==============================] - 0s 1ms/step - loss: 2.0868 - mae: 2.0868 - mse: 7.4852 - val_loss: 1.4413 - val_mae: 1.4413 - val_mse: 3.7492\n",
      "Epoch 199/300\n",
      "81/81 [==============================] - 0s 1ms/step - loss: 1.9060 - mae: 1.9060 - mse: 7.2269 - val_loss: 1.3886 - val_mae: 1.3886 - val_mse: 3.5639\n",
      "Epoch 200/300\n",
      "81/81 [==============================] - 0s 1ms/step - loss: 1.8663 - mae: 1.8663 - mse: 6.2067 - val_loss: 1.3548 - val_mae: 1.3548 - val_mse: 3.3806\n",
      "Epoch 201/300\n",
      "81/81 [==============================] - 0s 2ms/step - loss: 1.7713 - mae: 1.7713 - mse: 5.9064 - val_loss: 1.4275 - val_mae: 1.4275 - val_mse: 3.7035\n",
      "Epoch 202/300\n",
      "81/81 [==============================] - 0s 1ms/step - loss: 1.8503 - mae: 1.8503 - mse: 6.2629 - val_loss: 1.6119 - val_mae: 1.6119 - val_mse: 4.3697\n",
      "Epoch 203/300\n",
      "81/81 [==============================] - 0s 1ms/step - loss: 1.8662 - mae: 1.8662 - mse: 6.3663 - val_loss: 1.6649 - val_mae: 1.6649 - val_mse: 4.4965\n",
      "Epoch 204/300\n",
      "81/81 [==============================] - 0s 2ms/step - loss: 2.0099 - mae: 2.0099 - mse: 7.2204 - val_loss: 1.5662 - val_mae: 1.5662 - val_mse: 4.3323\n",
      "Epoch 205/300\n",
      "81/81 [==============================] - 0s 1ms/step - loss: 1.9026 - mae: 1.9026 - mse: 6.8544 - val_loss: 1.5536 - val_mae: 1.5536 - val_mse: 4.3335\n",
      "Epoch 206/300\n",
      "81/81 [==============================] - 0s 2ms/step - loss: 1.8862 - mae: 1.8862 - mse: 6.2518 - val_loss: 1.3682 - val_mae: 1.3682 - val_mse: 3.5823\n",
      "Epoch 207/300\n",
      "81/81 [==============================] - 0s 2ms/step - loss: 2.0576 - mae: 2.0576 - mse: 7.8910 - val_loss: 1.2952 - val_mae: 1.2952 - val_mse: 3.2535\n",
      "Epoch 208/300\n",
      "80/81 [============================>.] - ETA: 0s - loss: 1.8522 - mae: 1.8522 - mse: 6.4363INFO:tensorflow:Assets written to: best_result_checkpoint\\assets\n",
      "81/81 [==============================] - 1s 16ms/step - loss: 1.8448 - mae: 1.8448 - mse: 6.4051 - val_loss: 1.2308 - val_mae: 1.2308 - val_mse: 3.1354\n",
      "Epoch 209/300\n",
      "81/81 [==============================] - 0s 1ms/step - loss: 1.7980 - mae: 1.7980 - mse: 5.8126 - val_loss: 1.3518 - val_mae: 1.3518 - val_mse: 3.4059\n",
      "Epoch 210/300\n",
      "81/81 [==============================] - 0s 2ms/step - loss: 1.9858 - mae: 1.9858 - mse: 7.5180 - val_loss: 1.4731 - val_mae: 1.4731 - val_mse: 4.1233\n",
      "Epoch 211/300\n",
      "81/81 [==============================] - 0s 1ms/step - loss: 1.7346 - mae: 1.7346 - mse: 5.3358 - val_loss: 1.2768 - val_mae: 1.2768 - val_mse: 3.3596\n",
      "Epoch 212/300\n",
      "81/81 [==============================] - 0s 2ms/step - loss: 1.8830 - mae: 1.8830 - mse: 6.4309 - val_loss: 1.4406 - val_mae: 1.4406 - val_mse: 3.7460\n",
      "Epoch 213/300\n",
      "81/81 [==============================] - 0s 2ms/step - loss: 1.9180 - mae: 1.9180 - mse: 6.9405 - val_loss: 1.2888 - val_mae: 1.2888 - val_mse: 3.1664\n",
      "Epoch 214/300\n",
      "81/81 [==============================] - 0s 1ms/step - loss: 1.8356 - mae: 1.8356 - mse: 5.9184 - val_loss: 1.3496 - val_mae: 1.3496 - val_mse: 3.3402\n"
     ]
    },
    {
     "name": "stdout",
     "output_type": "stream",
     "text": [
      "Epoch 215/300\n",
      "81/81 [==============================] - 0s 2ms/step - loss: 1.8291 - mae: 1.8291 - mse: 6.1110 - val_loss: 1.5075 - val_mae: 1.5075 - val_mse: 4.1768\n",
      "Epoch 216/300\n",
      "81/81 [==============================] - 0s 2ms/step - loss: 1.8893 - mae: 1.8893 - mse: 6.5533 - val_loss: 1.4523 - val_mae: 1.4523 - val_mse: 3.9681\n",
      "Epoch 217/300\n",
      "81/81 [==============================] - 0s 2ms/step - loss: 1.8371 - mae: 1.8371 - mse: 6.2618 - val_loss: 1.5167 - val_mae: 1.5167 - val_mse: 4.2096\n",
      "Epoch 218/300\n",
      "81/81 [==============================] - 0s 2ms/step - loss: 2.0042 - mae: 2.0042 - mse: 6.8155 - val_loss: 1.4012 - val_mae: 1.4012 - val_mse: 3.6654\n",
      "Epoch 219/300\n",
      "81/81 [==============================] - 0s 2ms/step - loss: 1.9664 - mae: 1.9664 - mse: 7.1433 - val_loss: 1.3540 - val_mae: 1.3540 - val_mse: 3.6037\n",
      "Epoch 220/300\n",
      "81/81 [==============================] - 0s 1ms/step - loss: 1.8717 - mae: 1.8717 - mse: 6.9301 - val_loss: 1.3357 - val_mae: 1.3357 - val_mse: 3.3741\n",
      "Epoch 221/300\n",
      "81/81 [==============================] - 0s 1ms/step - loss: 1.7851 - mae: 1.7851 - mse: 6.2457 - val_loss: 1.3160 - val_mae: 1.3160 - val_mse: 3.6053\n",
      "Epoch 222/300\n",
      "81/81 [==============================] - 0s 1ms/step - loss: 1.8523 - mae: 1.8523 - mse: 6.3877 - val_loss: 1.6352 - val_mae: 1.6352 - val_mse: 4.9195\n",
      "Epoch 223/300\n",
      "81/81 [==============================] - 0s 2ms/step - loss: 1.9060 - mae: 1.9060 - mse: 6.3122 - val_loss: 1.3879 - val_mae: 1.3879 - val_mse: 3.6280\n",
      "Epoch 224/300\n",
      "81/81 [==============================] - 0s 1ms/step - loss: 1.7614 - mae: 1.7614 - mse: 5.8476 - val_loss: 1.4995 - val_mae: 1.4995 - val_mse: 4.4778\n",
      "Epoch 225/300\n",
      "81/81 [==============================] - 0s 1ms/step - loss: 1.8851 - mae: 1.8851 - mse: 6.4810 - val_loss: 1.4233 - val_mae: 1.4233 - val_mse: 3.6081\n",
      "Epoch 226/300\n",
      "81/81 [==============================] - 0s 1ms/step - loss: 1.8494 - mae: 1.8494 - mse: 6.3075 - val_loss: 1.3647 - val_mae: 1.3647 - val_mse: 3.5399\n",
      "Epoch 227/300\n",
      "81/81 [==============================] - 0s 2ms/step - loss: 1.8236 - mae: 1.8236 - mse: 6.2271 - val_loss: 1.6042 - val_mae: 1.6042 - val_mse: 4.4364\n",
      "Epoch 228/300\n",
      "81/81 [==============================] - 0s 1ms/step - loss: 1.9169 - mae: 1.9169 - mse: 6.5453 - val_loss: 1.4159 - val_mae: 1.4159 - val_mse: 3.5966\n",
      "Epoch 229/300\n",
      "81/81 [==============================] - 0s 1ms/step - loss: 1.9060 - mae: 1.9060 - mse: 6.5870 - val_loss: 1.3953 - val_mae: 1.3953 - val_mse: 3.6199\n",
      "Epoch 230/300\n",
      "81/81 [==============================] - 0s 1ms/step - loss: 1.9290 - mae: 1.9290 - mse: 6.7572 - val_loss: 1.4051 - val_mae: 1.4051 - val_mse: 3.4901\n",
      "Epoch 231/300\n",
      "81/81 [==============================] - 0s 2ms/step - loss: 1.8615 - mae: 1.8615 - mse: 6.1326 - val_loss: 1.5607 - val_mae: 1.5607 - val_mse: 4.2616\n",
      "Epoch 232/300\n",
      "81/81 [==============================] - 0s 1ms/step - loss: 2.0054 - mae: 2.0054 - mse: 7.6966 - val_loss: 1.4303 - val_mae: 1.4303 - val_mse: 3.6648\n",
      "Epoch 233/300\n",
      "81/81 [==============================] - 0s 1ms/step - loss: 1.7193 - mae: 1.7193 - mse: 5.7377 - val_loss: 1.4844 - val_mae: 1.4844 - val_mse: 3.8620\n",
      "Epoch 234/300\n",
      "81/81 [==============================] - 0s 1ms/step - loss: 1.8333 - mae: 1.8333 - mse: 6.1772 - val_loss: 1.4948 - val_mae: 1.4948 - val_mse: 3.7166\n",
      "Epoch 235/300\n",
      "81/81 [==============================] - 0s 2ms/step - loss: 1.8119 - mae: 1.8119 - mse: 5.8425 - val_loss: 1.6048 - val_mae: 1.6048 - val_mse: 4.4692\n",
      "Epoch 236/300\n",
      "81/81 [==============================] - 0s 2ms/step - loss: 1.9035 - mae: 1.9035 - mse: 6.6616 - val_loss: 1.5365 - val_mae: 1.5365 - val_mse: 4.0056\n",
      "Epoch 237/300\n",
      "81/81 [==============================] - 0s 1ms/step - loss: 1.8681 - mae: 1.8681 - mse: 6.5178 - val_loss: 1.3734 - val_mae: 1.3734 - val_mse: 3.5321\n",
      "Epoch 238/300\n",
      "81/81 [==============================] - 0s 2ms/step - loss: 1.8445 - mae: 1.8445 - mse: 6.6007 - val_loss: 1.3384 - val_mae: 1.3384 - val_mse: 3.1454\n",
      "Epoch 239/300\n",
      "81/81 [==============================] - 0s 2ms/step - loss: 1.7870 - mae: 1.7870 - mse: 5.8429 - val_loss: 1.3888 - val_mae: 1.3888 - val_mse: 3.2288\n",
      "Epoch 240/300\n",
      "81/81 [==============================] - 0s 2ms/step - loss: 1.9175 - mae: 1.9175 - mse: 7.0144 - val_loss: 1.2703 - val_mae: 1.2703 - val_mse: 3.0565\n",
      "Epoch 241/300\n",
      "81/81 [==============================] - 0s 1ms/step - loss: 1.8348 - mae: 1.8348 - mse: 5.9145 - val_loss: 1.3270 - val_mae: 1.3270 - val_mse: 3.2461\n",
      "Epoch 242/300\n",
      "81/81 [==============================] - 0s 1ms/step - loss: 1.8316 - mae: 1.8316 - mse: 6.1473 - val_loss: 1.4516 - val_mae: 1.4516 - val_mse: 3.7503\n",
      "Epoch 243/300\n",
      "81/81 [==============================] - 0s 2ms/step - loss: 1.8608 - mae: 1.8608 - mse: 6.4475 - val_loss: 1.6196 - val_mae: 1.6196 - val_mse: 4.4725\n",
      "Epoch 244/300\n",
      "81/81 [==============================] - 0s 1ms/step - loss: 1.9150 - mae: 1.9150 - mse: 6.9808 - val_loss: 1.4082 - val_mae: 1.4082 - val_mse: 3.6578\n",
      "Epoch 245/300\n",
      "81/81 [==============================] - 0s 1ms/step - loss: 1.8112 - mae: 1.8112 - mse: 6.4192 - val_loss: 1.4953 - val_mae: 1.4953 - val_mse: 3.5461\n",
      "Epoch 246/300\n",
      "81/81 [==============================] - 0s 1ms/step - loss: 1.9066 - mae: 1.9066 - mse: 6.5118 - val_loss: 1.3987 - val_mae: 1.3987 - val_mse: 3.8021\n",
      "Epoch 247/300\n",
      "81/81 [==============================] - 0s 1ms/step - loss: 1.9085 - mae: 1.9085 - mse: 6.2795 - val_loss: 1.3119 - val_mae: 1.3119 - val_mse: 3.1314\n",
      "Epoch 248/300\n",
      "81/81 [==============================] - 0s 1ms/step - loss: 1.9046 - mae: 1.9046 - mse: 6.3971 - val_loss: 1.3698 - val_mae: 1.3698 - val_mse: 3.3788\n",
      "Epoch 249/300\n",
      "81/81 [==============================] - 0s 1ms/step - loss: 1.8892 - mae: 1.8892 - mse: 7.1874 - val_loss: 1.4079 - val_mae: 1.4079 - val_mse: 3.8817\n",
      "Epoch 250/300\n",
      "81/81 [==============================] - 0s 1ms/step - loss: 1.8127 - mae: 1.8127 - mse: 6.5107 - val_loss: 1.7103 - val_mae: 1.7103 - val_mse: 5.8729\n",
      "Epoch 251/300\n",
      "81/81 [==============================] - 0s 1ms/step - loss: 1.8571 - mae: 1.8571 - mse: 6.3041 - val_loss: 1.6498 - val_mae: 1.6498 - val_mse: 4.4521\n",
      "Epoch 252/300\n",
      "81/81 [==============================] - 0s 1ms/step - loss: 2.0420 - mae: 2.0420 - mse: 6.9868 - val_loss: 1.3846 - val_mae: 1.3846 - val_mse: 3.5186\n",
      "Epoch 253/300\n",
      "81/81 [==============================] - 0s 1ms/step - loss: 1.9326 - mae: 1.9326 - mse: 6.6380 - val_loss: 1.4498 - val_mae: 1.4498 - val_mse: 3.7868\n",
      "Epoch 254/300\n",
      "81/81 [==============================] - 0s 1ms/step - loss: 1.7266 - mae: 1.7266 - mse: 5.5040 - val_loss: 1.7985 - val_mae: 1.7985 - val_mse: 5.2119\n",
      "Epoch 255/300\n",
      "81/81 [==============================] - 0s 1ms/step - loss: 1.8903 - mae: 1.8903 - mse: 6.1997 - val_loss: 1.4227 - val_mae: 1.4227 - val_mse: 3.5853\n",
      "Epoch 256/300\n",
      "81/81 [==============================] - 0s 1ms/step - loss: 1.8119 - mae: 1.8119 - mse: 5.8129 - val_loss: 1.3168 - val_mae: 1.3168 - val_mse: 3.2246\n",
      "Epoch 257/300\n",
      "81/81 [==============================] - 0s 1ms/step - loss: 1.7252 - mae: 1.7252 - mse: 5.5542 - val_loss: 1.3666 - val_mae: 1.3666 - val_mse: 3.4247\n",
      "Epoch 258/300\n",
      "81/81 [==============================] - 0s 1ms/step - loss: 1.8965 - mae: 1.8965 - mse: 6.4814 - val_loss: 1.6366 - val_mae: 1.6366 - val_mse: 4.6404\n",
      "Epoch 259/300\n",
      "81/81 [==============================] - 0s 1ms/step - loss: 1.8131 - mae: 1.8131 - mse: 6.0588 - val_loss: 1.4515 - val_mae: 1.4515 - val_mse: 3.7592\n",
      "Epoch 260/300\n",
      "81/81 [==============================] - 0s 1ms/step - loss: 1.8416 - mae: 1.8416 - mse: 6.0163 - val_loss: 1.9016 - val_mae: 1.9016 - val_mse: 5.7839\n",
      "Epoch 261/300\n",
      "81/81 [==============================] - 0s 1ms/step - loss: 1.9028 - mae: 1.9028 - mse: 6.9447 - val_loss: 2.0770 - val_mae: 2.0770 - val_mse: 7.4247\n",
      "Epoch 262/300\n",
      "81/81 [==============================] - 0s 1ms/step - loss: 1.8293 - mae: 1.8293 - mse: 6.2955 - val_loss: 1.5954 - val_mae: 1.5954 - val_mse: 5.3829\n",
      "Epoch 263/300\n",
      "81/81 [==============================] - 0s 1ms/step - loss: 1.7842 - mae: 1.7842 - mse: 5.8897 - val_loss: 1.4592 - val_mae: 1.4592 - val_mse: 3.9896\n",
      "Epoch 264/300\n",
      "81/81 [==============================] - 0s 1ms/step - loss: 1.7727 - mae: 1.7727 - mse: 5.8994 - val_loss: 1.3681 - val_mae: 1.3681 - val_mse: 3.3608\n"
     ]
    },
    {
     "name": "stdout",
     "output_type": "stream",
     "text": [
      "Epoch 265/300\n",
      "81/81 [==============================] - 0s 1ms/step - loss: 1.8956 - mae: 1.8956 - mse: 6.7903 - val_loss: 1.5384 - val_mae: 1.5384 - val_mse: 4.2187\n",
      "Epoch 266/300\n",
      "81/81 [==============================] - 0s 1ms/step - loss: 1.8077 - mae: 1.8077 - mse: 6.1944 - val_loss: 1.3147 - val_mae: 1.3147 - val_mse: 3.1912\n",
      "Epoch 267/300\n",
      "81/81 [==============================] - 0s 1ms/step - loss: 1.8095 - mae: 1.8095 - mse: 6.4162 - val_loss: 1.3651 - val_mae: 1.3651 - val_mse: 3.3324\n",
      "Epoch 268/300\n",
      "81/81 [==============================] - 0s 1ms/step - loss: 1.8385 - mae: 1.8385 - mse: 5.9573 - val_loss: 1.4759 - val_mae: 1.4759 - val_mse: 3.4847\n",
      "Epoch 269/300\n",
      "81/81 [==============================] - 0s 1ms/step - loss: 1.9623 - mae: 1.9623 - mse: 6.7242 - val_loss: 1.3950 - val_mae: 1.3950 - val_mse: 3.5333\n",
      "Epoch 270/300\n",
      "81/81 [==============================] - 0s 1ms/step - loss: 1.8387 - mae: 1.8387 - mse: 6.3341 - val_loss: 1.4052 - val_mae: 1.4052 - val_mse: 3.3797\n",
      "Epoch 271/300\n",
      "81/81 [==============================] - 0s 1ms/step - loss: 1.7827 - mae: 1.7827 - mse: 5.9269 - val_loss: 1.6771 - val_mae: 1.6771 - val_mse: 4.5671\n",
      "Epoch 272/300\n",
      "81/81 [==============================] - 0s 1ms/step - loss: 1.7384 - mae: 1.7384 - mse: 5.1931 - val_loss: 1.4646 - val_mae: 1.4646 - val_mse: 3.8095\n",
      "Epoch 273/300\n",
      "81/81 [==============================] - 0s 1ms/step - loss: 1.9150 - mae: 1.9150 - mse: 6.7248 - val_loss: 1.6260 - val_mae: 1.6260 - val_mse: 4.4145\n",
      "Epoch 274/300\n",
      "81/81 [==============================] - 0s 1ms/step - loss: 1.8212 - mae: 1.8212 - mse: 6.0466 - val_loss: 1.7209 - val_mae: 1.7209 - val_mse: 5.6093\n",
      "Epoch 275/300\n",
      "81/81 [==============================] - 0s 1ms/step - loss: 1.7890 - mae: 1.7890 - mse: 6.3972 - val_loss: 1.6053 - val_mae: 1.6053 - val_mse: 5.0067\n",
      "Epoch 276/300\n",
      "81/81 [==============================] - 0s 1ms/step - loss: 1.8424 - mae: 1.8424 - mse: 6.2259 - val_loss: 1.6754 - val_mae: 1.6754 - val_mse: 4.5412\n",
      "Epoch 277/300\n",
      "81/81 [==============================] - 0s 1ms/step - loss: 1.8400 - mae: 1.8400 - mse: 6.1525 - val_loss: 1.3867 - val_mae: 1.3867 - val_mse: 3.4816\n",
      "Epoch 278/300\n",
      "81/81 [==============================] - 0s 1ms/step - loss: 1.8448 - mae: 1.8448 - mse: 6.4623 - val_loss: 1.5580 - val_mae: 1.5580 - val_mse: 4.1670\n",
      "Epoch 279/300\n",
      "81/81 [==============================] - 0s 1ms/step - loss: 1.8677 - mae: 1.8677 - mse: 6.5621 - val_loss: 1.8464 - val_mae: 1.8464 - val_mse: 5.9675\n",
      "Epoch 280/300\n",
      "81/81 [==============================] - 0s 1ms/step - loss: 1.8558 - mae: 1.8558 - mse: 6.6759 - val_loss: 1.3583 - val_mae: 1.3583 - val_mse: 3.3452\n",
      "Epoch 281/300\n",
      "81/81 [==============================] - 0s 1ms/step - loss: 1.7498 - mae: 1.7498 - mse: 5.5407 - val_loss: 1.5242 - val_mae: 1.5242 - val_mse: 3.9430\n",
      "Epoch 282/300\n",
      "81/81 [==============================] - 0s 1ms/step - loss: 1.9046 - mae: 1.9046 - mse: 6.5686 - val_loss: 1.4157 - val_mae: 1.4157 - val_mse: 3.7014\n",
      "Epoch 283/300\n",
      "81/81 [==============================] - 0s 1ms/step - loss: 1.8886 - mae: 1.8886 - mse: 6.7520 - val_loss: 1.5169 - val_mae: 1.5169 - val_mse: 4.2470\n",
      "Epoch 284/300\n",
      "81/81 [==============================] - 0s 1ms/step - loss: 1.7678 - mae: 1.7678 - mse: 5.7637 - val_loss: 1.4644 - val_mae: 1.4644 - val_mse: 3.8781\n",
      "Epoch 285/300\n",
      "81/81 [==============================] - 0s 1ms/step - loss: 1.9583 - mae: 1.9583 - mse: 7.1937 - val_loss: 1.7066 - val_mae: 1.7066 - val_mse: 5.3589\n",
      "Epoch 286/300\n",
      "81/81 [==============================] - 0s 1ms/step - loss: 1.7693 - mae: 1.7693 - mse: 5.9111 - val_loss: 1.3718 - val_mae: 1.3718 - val_mse: 3.4025\n",
      "Epoch 287/300\n",
      "81/81 [==============================] - 0s 1ms/step - loss: 1.7297 - mae: 1.7297 - mse: 5.7590 - val_loss: 1.4109 - val_mae: 1.4109 - val_mse: 3.5075\n",
      "Epoch 288/300\n",
      "81/81 [==============================] - 0s 1ms/step - loss: 1.9311 - mae: 1.9311 - mse: 6.9090 - val_loss: 1.5177 - val_mae: 1.5177 - val_mse: 3.8478\n",
      "Epoch 289/300\n",
      "81/81 [==============================] - 0s 1ms/step - loss: 1.7736 - mae: 1.7736 - mse: 6.2219 - val_loss: 1.3795 - val_mae: 1.3795 - val_mse: 3.3991\n",
      "Epoch 290/300\n",
      "81/81 [==============================] - 0s 1ms/step - loss: 1.7289 - mae: 1.7289 - mse: 5.8692 - val_loss: 1.3337 - val_mae: 1.3337 - val_mse: 3.3620\n",
      "Epoch 291/300\n",
      "81/81 [==============================] - 0s 1ms/step - loss: 1.8369 - mae: 1.8369 - mse: 6.1557 - val_loss: 1.6377 - val_mae: 1.6377 - val_mse: 4.2560\n",
      "Epoch 292/300\n",
      "81/81 [==============================] - 0s 1ms/step - loss: 1.8170 - mae: 1.8170 - mse: 6.3784 - val_loss: 1.3415 - val_mae: 1.3415 - val_mse: 3.2585\n",
      "Epoch 293/300\n",
      "81/81 [==============================] - 0s 1ms/step - loss: 1.7392 - mae: 1.7392 - mse: 5.6992 - val_loss: 1.4404 - val_mae: 1.4404 - val_mse: 3.7510\n",
      "Epoch 294/300\n",
      "81/81 [==============================] - 0s 1ms/step - loss: 1.7137 - mae: 1.7137 - mse: 5.6037 - val_loss: 1.3853 - val_mae: 1.3853 - val_mse: 3.5858\n",
      "Epoch 295/300\n",
      "81/81 [==============================] - 0s 1ms/step - loss: 1.8647 - mae: 1.8647 - mse: 6.4379 - val_loss: 1.4088 - val_mae: 1.4088 - val_mse: 3.7457\n",
      "Epoch 296/300\n",
      "81/81 [==============================] - 0s 1ms/step - loss: 1.7309 - mae: 1.7309 - mse: 5.7156 - val_loss: 1.9353 - val_mae: 1.9353 - val_mse: 6.5232\n",
      "Epoch 297/300\n",
      "81/81 [==============================] - 0s 1ms/step - loss: 1.7426 - mae: 1.7426 - mse: 5.9371 - val_loss: 1.3940 - val_mae: 1.3940 - val_mse: 3.6352\n",
      "Epoch 298/300\n",
      "81/81 [==============================] - 0s 1ms/step - loss: 1.8269 - mae: 1.8269 - mse: 6.2664 - val_loss: 1.4994 - val_mae: 1.4994 - val_mse: 3.8526\n",
      "Epoch 299/300\n",
      "81/81 [==============================] - 0s 1ms/step - loss: 1.8613 - mae: 1.8613 - mse: 6.6356 - val_loss: 1.3782 - val_mae: 1.3782 - val_mse: 3.5327\n",
      "Epoch 300/300\n",
      "81/81 [==============================] - 0s 1ms/step - loss: 1.8232 - mae: 1.8232 - mse: 6.3891 - val_loss: 1.6319 - val_mae: 1.6319 - val_mse: 5.1790\n"
     ]
    }
   ],
   "source": [
    "#training model\n",
    "callbacks = [\n",
    "    ModelCheckpoint(folder+\"best_result_checkpoint\", monitor='val_loss', save_best_only=True, verbose=0)\n",
    "]\n",
    "\n",
    "history = model.fit([X_train_norm],# X_train X_train_std X_train_norm\n",
    "                    [Y_train], \n",
    "                    validation_data=([X_test_norm], [Y_test]),#X_test X_test_std X_test_norm\n",
    "                    epochs=300,\n",
    "                    batch_size=5,\n",
    "                    callbacks=callbacks,\n",
    "                    shuffle=True)\n",
    "\n"
   ]
  },
  {
   "cell_type": "code",
   "execution_count": 47,
   "metadata": {
    "id": "oWyZDL5YeD59"
   },
   "outputs": [
    {
     "name": "stdout",
     "output_type": "stream",
     "text": [
      "[16.142810821533203, 5.945666790008545, 4.873701572418213, 4.065468788146973, 3.8711438179016113, 3.3624019622802734, 3.1849989891052246, 3.0006940364837646, 2.940239429473877, 3.0361907482147217, 3.0222978591918945, 2.680433750152588, 2.6918997764587402, 2.742636203765869, 2.598872661590576, 2.5986804962158203, 2.6940464973449707, 2.70230770111084, 2.5926966667175293, 2.55631422996521, 2.6171741485595703, 2.658400535583496, 2.597318410873413, 2.6665115356445312, 2.532109022140503, 2.4686367511749268, 2.6658811569213867, 2.6113619804382324, 2.4525651931762695, 2.5246059894561768, 2.4864284992218018, 2.3696250915527344, 2.5477263927459717, 2.488521099090576, 2.374845266342163, 2.429525375366211, 2.4253830909729004, 2.3615846633911133, 2.3774425983428955, 2.4283902645111084, 2.278597354888916, 2.2257070541381836, 2.205334424972534, 2.377004861831665, 2.330622434616089, 2.3996763229370117, 2.3024797439575195, 2.4014222621917725, 2.2468855381011963, 2.3668646812438965, 2.25221586227417, 2.3742516040802, 2.1867575645446777, 2.2444887161254883, 2.2928507328033447, 2.2924582958221436, 2.322065830230713, 2.44919753074646, 2.190436601638794, 2.1891112327575684, 2.1069512367248535, 2.2606630325317383, 2.3006961345672607, 2.2747583389282227, 2.2518723011016846, 2.3038699626922607, 2.1512579917907715, 2.3332502841949463, 2.2534019947052, 2.2994987964630127, 2.1340279579162598, 2.2133309841156006, 2.158498525619507, 2.145317792892456, 2.094566822052002, 2.1389994621276855, 2.1865851879119873, 2.1047210693359375, 1.9853770732879639, 2.217665195465088, 2.2162654399871826, 2.091912031173706, 2.0656380653381348, 2.101841688156128, 1.9469860792160034, 2.109204053878784, 2.1438064575195312, 2.064394950866699, 2.0051324367523193, 2.110168933868408, 2.0356106758117676, 2.0507946014404297, 2.080402374267578, 2.234816312789917, 2.2353110313415527, 2.0846972465515137, 2.2462832927703857, 2.050039768218994, 2.0430550575256348, 2.0067038536071777, 2.1176671981811523, 2.1685197353363037, 2.1739344596862793, 2.0561797618865967, 2.106912612915039, 2.0999274253845215, 2.0458343029022217, 2.2227272987365723, 1.9974076747894287, 2.2437243461608887, 2.045149087905884, 1.95565664768219, 1.9488284587860107, 2.0917487144470215, 1.9842658042907715, 2.0600051879882812, 2.0253891944885254, 2.0294010639190674, 2.138366460800171, 2.055405378341675, 2.0843563079833984, 1.9945696592330933, 1.9863728284835815, 1.9609849452972412, 2.001690149307251, 1.9789615869522095, 2.0177066326141357, 1.9075275659561157, 2.0233144760131836, 2.0407485961914062, 1.9960532188415527, 2.079728841781616, 2.003000497817993, 1.9130016565322876, 1.962550401687622, 2.073667049407959, 2.169254779815674, 2.0407021045684814, 1.951756238937378, 1.9712562561035156, 1.9953311681747437, 1.9301222562789917, 1.9130431413650513, 2.1153578758239746, 1.9551934003829956, 1.9726155996322632, 2.011716842651367, 2.068549633026123, 2.0738461017608643, 2.0332775115966797, 1.8776167631149292, 2.02441668510437, 1.9625977277755737, 1.9448716640472412, 1.93659508228302, 1.8201650381088257, 2.0187454223632812, 1.8061416149139404, 2.008842706680298, 1.8460761308670044, 2.00760817527771, 1.9901304244995117, 1.962078332901001, 1.9533390998840332, 1.9437894821166992, 2.0316147804260254, 2.0184831619262695, 1.9691823720932007, 2.037431240081787, 2.01381778717041, 2.098245859146118, 1.75715172290802, 1.9384372234344482, 1.907896876335144, 1.8997128009796143, 2.0401625633239746, 1.9202349185943604, 1.9504811763763428, 1.8266104459762573, 1.8996405601501465, 1.801162838935852, 1.9385697841644287, 1.8683984279632568, 1.838411569595337, 1.8930776119232178, 1.8529303073883057, 1.9041924476623535, 1.871888518333435, 2.0054738521575928, 1.8589224815368652, 1.9890046119689941, 1.7515326738357544, 1.8823940753936768, 1.891916275024414, 1.8878748416900635, 1.9461733102798462, 1.936805248260498, 2.086843729019165, 1.9059678316116333, 1.8663291931152344, 1.7712548971176147, 1.8502771854400635, 1.8661525249481201, 2.009871244430542, 1.902560830116272, 1.8861899375915527, 2.057582378387451, 1.8447765111923218, 1.7979730367660522, 1.9858121871948242, 1.7345987558364868, 1.8830260038375854, 1.918010950088501, 1.8356419801712036, 1.8291218280792236, 1.8892848491668701, 1.8370696306228638, 2.0041568279266357, 1.966384768486023, 1.8716984987258911, 1.785116195678711, 1.8523337841033936, 1.905971884727478, 1.7613965272903442, 1.885121464729309, 1.8494409322738647, 1.8236266374588013, 1.9169028997421265, 1.9060230255126953, 1.9290128946304321, 1.8615463972091675, 2.0053794384002686, 1.719319462776184, 1.8333112001419067, 1.8118964433670044, 1.9035407304763794, 1.868107557296753, 1.8445422649383545, 1.7869738340377808, 1.9174931049346924, 1.834778904914856, 1.8316437005996704, 1.8607547283172607, 1.9150160551071167, 1.8112071752548218, 1.9065570831298828, 1.9084782600402832, 1.9046144485473633, 1.8892489671707153, 1.8126859664916992, 1.857062578201294, 2.041958808898926, 1.9326286315917969, 1.7265665531158447, 1.8902864456176758, 1.8119393587112427, 1.725220799446106, 1.896515965461731, 1.8130760192871094, 1.8415782451629639, 1.9028418064117432, 1.829345703125, 1.7842020988464355, 1.7726528644561768, 1.8955658674240112, 1.8076871633529663, 1.8094873428344727, 1.8385189771652222, 1.9622966051101685, 1.8387417793273926, 1.7826977968215942, 1.7383627891540527, 1.9149928092956543, 1.8212388753890991, 1.7889686822891235, 1.8424445390701294, 1.8400462865829468, 1.8448375463485718, 1.8676998615264893, 1.8558496236801147, 1.7498399019241333, 1.9046202898025513, 1.8885927200317383, 1.7677797079086304, 1.958346962928772, 1.7692760229110718, 1.7297221422195435, 1.9311293363571167, 1.7735693454742432, 1.7288703918457031, 1.8369123935699463, 1.817002534866333, 1.7392245531082153, 1.713681936264038, 1.8646882772445679, 1.7309491634368896, 1.742554783821106, 1.8269387483596802, 1.8612732887268066, 1.8232189416885376]\n"
     ]
    },
    {
     "data": {
      "image/png": "[encoded data removed]",
      "text/plain": [
       "<Figure size 432x288 with 1 Axes>"
      ]
     },
     "metadata": {
      "needs_background": "light"
     },
     "output_type": "display_data"
    }
   ],
   "source": [
    "#show training process\n",
    "print(history.history['loss'])\n",
    "\n",
    "plt.plot(history.history['loss'],'--', label='loss on training set')\n",
    "plt.plot(history.history['val_loss'], label='loss on validation set')\n",
    "plt.xlabel('epoch')\n",
    "plt.ylabel('mae')\n",
    "plt.legend()\n",
    "plt.savefig(folder+\"loss.png\")\n",
    "plt.show()"
   ]
  },
  {
   "cell_type": "code",
   "execution_count": 48,
   "metadata": {
    "id": "koIeuzRGSKpY"
   },
   "outputs": [
    {
     "name": "stdout",
     "output_type": "stream",
     "text": [
      "Model: \"model_1\"\n",
      "_________________________________________________________________\n",
      " Layer (type)                Output Shape              Param #   \n",
      "=================================================================\n",
      " input_2 (InputLayer)        [(None, 13)]              0         \n",
      "                                                                 \n",
      " dense_12 (Dense)            (None, 64)                896       \n",
      "                                                                 \n",
      " dense_13 (Dense)            (None, 64)                4160      \n",
      "                                                                 \n",
      " dropout_4 (Dropout)         (None, 64)                0         \n",
      "                                                                 \n",
      " dense_14 (Dense)            (None, 1)                 65        \n",
      "                                                                 \n",
      "=================================================================\n",
      "Total params: 5,121\n",
      "Trainable params: 5,121\n",
      "Non-trainable params: 0\n",
      "_________________________________________________________________\n",
      "You must install pydot (`pip install pydot`) and install graphviz (see instructions at https://graphviz.gitlab.io/download/) for plot_model/model_to_dot to work.\n"
     ]
    }
   ],
   "source": [
    "#restore model from checkpoint\n",
    "model=models.load_model(folder+\"best_result_checkpoint\")\n",
    "model.summary()\n",
    "plot_model(model, to_file=folder+\"model_struct.png\", expand_nested=True, show_shapes=True, show_layer_names=False)"
   ]
  },
  {
   "cell_type": "code",
   "execution_count": 49,
   "metadata": {
    "id": "D25QxJm0d2VF"
   },
   "outputs": [
    {
     "name": "stdout",
     "output_type": "stream",
     "text": [
      "13/13 - 0s - loss: 1.0259 - mae: 1.0259 - mse: 2.6800 - 128ms/epoch - 10ms/step\n",
      "-------------\n",
      "2/2 - 0s - loss: 1.2308 - mae: 1.2308 - mse: 3.1354 - 19ms/epoch - 10ms/step\n",
      "----------------\n",
      "2/2 - 0s - loss: 3.1432 - mae: 3.1432 - mse: 35.1119 - 17ms/epoch - 9ms/step\n",
      "----------------\n"
     ]
    }
   ],
   "source": [
    "#model evaluate\n",
    "loss, mae, mse = model.evaluate(X_train_norm, Y_train, verbose=2)# X_train X_train_std X_train_norm\n",
    "print(\"-------------\")\n",
    "loss, mse, mae = model.evaluate(X_test_norm, Y_test, verbose=2)#X_test X_test_std X_test_norm\n",
    "print(\"----------------\")\n",
    "loss, mse, mae = model.evaluate(X_val_norm, Y_val, verbose=2)#X_val X_val_std X_val_norm\n",
    "print(\"----------------\")"
   ]
  },
  {
   "cell_type": "code",
   "execution_count": 50,
   "metadata": {
    "id": "WMk0A43iO48B"
   },
   "outputs": [
    {
     "name": "stdout",
     "output_type": "stream",
     "text": [
      "2/2 [==============================] - 0s 2ms/step\n",
      "predicted 24.236164  real 23.2\n",
      "predicted 19.50466  real 20.5\n",
      "predicted 11.084104  real 13.8\n",
      "predicted 15.568317  real 15.6\n",
      "predicted 17.565065  real 17.8\n",
      "predicted 30.671698  real 32.0\n",
      "predicted 50.825363  real 50.0\n",
      "predicted 25.718142  real 25.0\n",
      "predicted 19.172466  real 18.8\n",
      "predicted 26.91292  real 27.0\n",
      "predicted 18.773197  real 18.7\n",
      "predicted 19.472351  real 20.1\n",
      "predicted 18.268936  real 19.4\n",
      "predicted 21.988024  real 25.0\n",
      "predicted 20.854  real 19.3\n",
      "predicted 24.678041  real 25.0\n",
      "predicted 17.873215  real 19.3\n",
      "predicted 18.697405  real 18.9\n",
      "predicted 33.359455  real 32.7\n",
      "predicted 18.544329  real 17.1\n",
      "predicted 18.10878  real 17.8\n",
      "predicted 25.075384  real 22.0\n",
      "predicted 15.851506  real 20.8\n",
      "predicted 46.91783  real 45.4\n",
      "predicted 21.056437  real 20.3\n",
      "predicted 23.546955  real 23.9\n",
      "predicted 20.134224  real 20.0\n",
      "predicted 34.45626  real 36.4\n",
      "predicted 49.89895  real 50.0\n",
      "predicted 20.993004  real 21.0\n",
      "predicted 41.369797  real 46.7\n",
      "predicted 22.301775  real 21.7\n",
      "predicted 27.475101  real 23.6\n",
      "predicted 23.870327  real 23.9\n",
      "predicted 16.673122  real 17.8\n",
      "predicted 24.41159  real 24.1\n",
      "predicted 33.677647  real 33.2\n",
      "predicted 24.165075  real 23.0\n",
      "predicted 27.103697  real 29.1\n",
      "predicted 9.7669325  real 7.4\n",
      "predicted 9.018354  real 8.8\n",
      "predicted 24.400457  real 22.8\n",
      "predicted 34.083775  real 33.4\n",
      "predicted 14.362669  real 14.4\n",
      "predicted 27.475101  real 23.6\n",
      "predicted 26.442827  real 24.5\n",
      "predicted 17.488533  real 14.5\n",
      "predicted 20.955946  real 20.1\n",
      "predicted 24.810293  real 25.0\n",
      "predicted 13.124221  real 13.6\n",
      "predicted 27.778399  real 27.1\n"
     ]
    }
   ],
   "source": [
    "#use of model. predict price\n",
    "pred = model.predict(X_test_norm)#X_test X_test_std X_test_norm\n",
    "array_pred = []\n",
    "for i in range(len(Y_test)):\n",
    "  print(\"predicted \"+str(pred[i][0])+\"  real \"+str(Y_test[i]))\n",
    "  array_pred.append(pred[i][0])\n"
   ]
  },
  {
   "cell_type": "code",
   "execution_count": 51,
   "metadata": {},
   "outputs": [
    {
     "data": {
      "image/png": "[encoded data removed]",
      "text/plain": [
       "<Figure size 432x288 with 1 Axes>"
      ]
     },
     "metadata": {
      "needs_background": "light"
     },
     "output_type": "display_data"
    }
   ],
   "source": [
    "plt.plot(array_pred,label='predict')\n",
    "plt.plot(Y_test,label='real_data')\n",
    "plt.legend()\n",
    "plt.show()"
   ]
  },
  {
   "cell_type": "code",
   "execution_count": 53,
   "metadata": {
    "id": "YM5AA-7rZwwd"
   },
   "outputs": [
    {
     "name": "stdout",
     "output_type": "stream",
     "text": [
      "saving done\n"
     ]
    }
   ],
   "source": [
    "#save model\n",
    "model_json = model.to_json()\n",
    "json_file = open(folder+\"my_model\" + \".json\", \"w\")\n",
    "#write structure\n",
    "json_file.write(model_json)\n",
    "json_file.close()\n",
    "# write wtights\n",
    "model.save_weights(folder+\"my_model\"+\".h5\")\n",
    "print(\"saving done\")"
   ]
  },
  {
   "cell_type": "code",
   "execution_count": null,
   "metadata": {
    "id": "NxuhyNUThf6j"
   },
   "outputs": [],
   "source": [
    "model_json=folder+\"/my_model.json\"\n",
    "model_h5=folder+\"/my_model.h5\"\n",
    "\n",
    "#load structure\n",
    "json_file = open(model_json, \"r\")\n",
    "loaded_model_json = json_file.read()\n",
    "json_file.close()\n",
    "\n",
    "model2 = model_from_json(loaded_model_json)\n",
    "# load weights\n",
    "model2.load_weights(model_h5)\n",
    "print(\"Done\")\n",
    "model = Model(model2.input, model2.layers[-1].output)\n",
    "model.trainable = True\n",
    "#model downoladed. next step is selection of loss function, optimiser and metrics befroe compilation\n",
    "#go to section #selection of training parametrs. compilation."
   ]
  }
 ],
 "metadata": {
  "colab": {
   "collapsed_sections": [],
   "name": "regression_example.ipynb",
   "private_outputs": true,
   "provenance": []
  },
  "kernelspec": {
   "display_name": "Python 3 (ipykernel)",
   "language": "python",
   "name": "python3"
  },
  "language_info": {
   "codemirror_mode": {
    "name": "ipython",
    "version": 3
   },
   "file_extension": ".py",
   "mimetype": "text/x-python",
   "name": "python",
   "nbconvert_exporter": "python",
   "pygments_lexer": "ipython3",
   "version": "3.9.13"
  }
 },
 "nbformat": 4,
 "nbformat_minor": 1
}
