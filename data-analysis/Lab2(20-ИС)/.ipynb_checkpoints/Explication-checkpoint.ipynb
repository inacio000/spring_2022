{
 "cells": [
  {
   "cell_type": "markdown",
   "id": "d04389a2",
   "metadata": {},
   "source": [
    "# `matplotlib`\n",
    "#### `matplotlib` — это библиотека, предназначенная для разработки двумерных графиков (включая 3D-представления).\n",
    "## `matplotlib.pyplot`\n",
    "#### `pyplot` — это коллекция функций в стиле команд, которая позволяет использовать matplotlib\n",
    "#### Каждая функция pyplot работает с объектами и позволяет их изменять. Например, есть функции для создания объекта , для создания области построения, представления линии, добавления метки и так далее."
   ]
  },
  {
   "cell_type": "code",
   "execution_count": 2,
   "id": "29faa553",
   "metadata": {},
   "outputs": [],
   "source": [
    "import numpy as np\n",
    "import pandas as pd\n",
    "import matplotlib.pyplot as plt\n",
    "from sklearn.model_selection import train_test_split\n",
    "from sklearn.neighbors import KNeighborsClassifier\n",
    "from sklearn.datasets import load_digits\n",
    "from sklearn.metrics import confusion_matrix\n",
    "\n",
    "# Suppress Warnings In Python\n",
    "import warnings\n",
    "warnings.filterwarnings(action='ignore', category=FutureWarning)"
   ]
  }
 ],
 "metadata": {
  "kernelspec": {
   "display_name": "Python 3 (ipykernel)",
   "language": "python",
   "name": "python3"
  },
  "language_info": {
   "codemirror_mode": {
    "name": "ipython",
    "version": 3
   },
   "file_extension": ".py",
   "mimetype": "text/x-python",
   "name": "python",
   "nbconvert_exporter": "python",
   "pygments_lexer": "ipython3",
   "version": "3.9.13"
  }
 },
 "nbformat": 4,
 "nbformat_minor": 5
}
